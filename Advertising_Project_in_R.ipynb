{
  "nbformat": 4,
  "nbformat_minor": 0,
  "metadata": {
    "colab": {
      "name": "Advertising Project in R",
      "provenance": [],
      "authorship_tag": "ABX9TyMrn7FKMlQ3H0j8N64nuiyU",
      "include_colab_link": true
    },
    "kernelspec": {
      "name": "ir",
      "display_name": "R"
    }
  },
  "cells": [
    {
      "cell_type": "markdown",
      "metadata": {
        "id": "view-in-github",
        "colab_type": "text"
      },
      "source": [
        "<a href=\"https://colab.research.google.com/github/Griff-Kaiga/Advertising-project-in-R/blob/main/Advertising_Project_in_R.ipynb\" target=\"_parent\"><img src=\"https://colab.research.google.com/assets/colab-badge.svg\" alt=\"Open In Colab\"/></a>"
      ]
    },
    {
      "cell_type": "markdown",
      "metadata": {
        "id": "_kS3CbQ-zTVN"
      },
      "source": [
        "## 1.Defining the question \n",
        "A Kenyan entrepreneur has created an online cryptography course and would want to advertise it on her blog. She currently targets audiences originating from various countries. In the past, she ran ads to advertise a related course on the same blog and collected data in the process.\n",
        "She wants to identify which individuals are most likely to click ads."
      ]
    },
    {
      "cell_type": "markdown",
      "metadata": {
        "id": "0eDqSlOUzawZ"
      },
      "source": [
        "## 2. Metrics of sucess\n",
        "The project will be considered a success once we are able to provide insights on the group of people who are most likely to click ads "
      ]
    },
    {
      "cell_type": "markdown",
      "metadata": {
        "id": "f_SgiDhzzjb_"
      },
      "source": [
        "## 3. Understanding the context\n",
        "Targeted advertising is a form of advertising, including online advertising, that is directed towards an audience with certain traits, based on the product or person the advertiser is promoting.These traits can either be demographic with a focus on race, economic status, sex, age, generation, level of education, income level, and employment, or there can be a psychographic focus which is based on the consumer values, personality, attitude, opinion, lifestyle and interest. This focus can also entail behavioral variables, such as browser history, purchase history, and other recent online activities. Targeted advertising is focused on certain traits and consumers who are likely to have a strong preference. These individuals will receive messages instead of those who have no interest and whose preferences do not match a particular product's attributes. This eliminates waste."
      ]
    },
    {
      "cell_type": "markdown",
      "metadata": {
        "id": "YShodugQz4DC"
      },
      "source": [
        "## 4. Experimental design\n",
        "loading the data\n",
        "checking the data\n",
        "Find and deal with outliers, anomalies, and missing data within the dataset.\n",
        "Perform  univariate and bivariate analysis"
      ]
    },
    {
      "cell_type": "code",
      "metadata": {
        "id": "bLfQn6gkl1hC",
        "outputId": "c11754e4-3d73-4909-fe6c-c311c77bd973",
        "colab": {
          "base_uri": "https://localhost:8080/",
          "height": 195
        }
      },
      "source": [
        "# loading the data and viewing the first 6 observatons\n",
        "advertising = read.csv('advertising.csv', header = TRUE)\n",
        "head(advertising)"
      ],
      "execution_count": 1,
      "outputs": [
        {
          "output_type": "display_data",
          "data": {
            "text/plain": [
              "  Daily.Time.Spent.on.Site Age Area.Income Daily.Internet.Usage\n",
              "1 68.95                    35  61833.90    256.09              \n",
              "2 80.23                    31  68441.85    193.77              \n",
              "3 69.47                    26  59785.94    236.50              \n",
              "4 74.15                    29  54806.18    245.89              \n",
              "5 68.37                    35  73889.99    225.58              \n",
              "6 59.99                    23  59761.56    226.74              \n",
              "  Ad.Topic.Line                         City           Male Country   \n",
              "1 Cloned 5thgeneration orchestration    Wrightburgh    0    Tunisia   \n",
              "2 Monitored national standardization    West Jodi      1    Nauru     \n",
              "3 Organic bottom-line service-desk      Davidton       0    San Marino\n",
              "4 Triple-buffered reciprocal time-frame West Terrifurt 1    Italy     \n",
              "5 Robust logistical utilization         South Manuel   0    Iceland   \n",
              "6 Sharable client-driven software       Jamieberg      1    Norway    \n",
              "  Timestamp           Clicked.on.Ad\n",
              "1 2016-03-27 00:53:11 0            \n",
              "2 2016-04-04 01:39:02 0            \n",
              "3 2016-03-13 20:35:42 0            \n",
              "4 2016-01-10 02:31:19 0            \n",
              "5 2016-06-03 03:36:18 0            \n",
              "6 2016-05-19 14:30:17 0            "
            ],
            "text/latex": "A data.frame: 6 × 10\n\\begin{tabular}{r|llllllllll}\n  & Daily.Time.Spent.on.Site & Age & Area.Income & Daily.Internet.Usage & Ad.Topic.Line & City & Male & Country & Timestamp & Clicked.on.Ad\\\\\n  & <dbl> & <int> & <dbl> & <dbl> & <chr> & <chr> & <int> & <chr> & <chr> & <int>\\\\\n\\hline\n\t1 & 68.95 & 35 & 61833.90 & 256.09 & Cloned 5thgeneration orchestration    & Wrightburgh    & 0 & Tunisia    & 2016-03-27 00:53:11 & 0\\\\\n\t2 & 80.23 & 31 & 68441.85 & 193.77 & Monitored national standardization    & West Jodi      & 1 & Nauru      & 2016-04-04 01:39:02 & 0\\\\\n\t3 & 69.47 & 26 & 59785.94 & 236.50 & Organic bottom-line service-desk      & Davidton       & 0 & San Marino & 2016-03-13 20:35:42 & 0\\\\\n\t4 & 74.15 & 29 & 54806.18 & 245.89 & Triple-buffered reciprocal time-frame & West Terrifurt & 1 & Italy      & 2016-01-10 02:31:19 & 0\\\\\n\t5 & 68.37 & 35 & 73889.99 & 225.58 & Robust logistical utilization         & South Manuel   & 0 & Iceland    & 2016-06-03 03:36:18 & 0\\\\\n\t6 & 59.99 & 23 & 59761.56 & 226.74 & Sharable client-driven software       & Jamieberg      & 1 & Norway     & 2016-05-19 14:30:17 & 0\\\\\n\\end{tabular}\n",
            "text/markdown": "\nA data.frame: 6 × 10\n\n| <!--/--> | Daily.Time.Spent.on.Site &lt;dbl&gt; | Age &lt;int&gt; | Area.Income &lt;dbl&gt; | Daily.Internet.Usage &lt;dbl&gt; | Ad.Topic.Line &lt;chr&gt; | City &lt;chr&gt; | Male &lt;int&gt; | Country &lt;chr&gt; | Timestamp &lt;chr&gt; | Clicked.on.Ad &lt;int&gt; |\n|---|---|---|---|---|---|---|---|---|---|---|\n| 1 | 68.95 | 35 | 61833.90 | 256.09 | Cloned 5thgeneration orchestration    | Wrightburgh    | 0 | Tunisia    | 2016-03-27 00:53:11 | 0 |\n| 2 | 80.23 | 31 | 68441.85 | 193.77 | Monitored national standardization    | West Jodi      | 1 | Nauru      | 2016-04-04 01:39:02 | 0 |\n| 3 | 69.47 | 26 | 59785.94 | 236.50 | Organic bottom-line service-desk      | Davidton       | 0 | San Marino | 2016-03-13 20:35:42 | 0 |\n| 4 | 74.15 | 29 | 54806.18 | 245.89 | Triple-buffered reciprocal time-frame | West Terrifurt | 1 | Italy      | 2016-01-10 02:31:19 | 0 |\n| 5 | 68.37 | 35 | 73889.99 | 225.58 | Robust logistical utilization         | South Manuel   | 0 | Iceland    | 2016-06-03 03:36:18 | 0 |\n| 6 | 59.99 | 23 | 59761.56 | 226.74 | Sharable client-driven software       | Jamieberg      | 1 | Norway     | 2016-05-19 14:30:17 | 0 |\n\n",
            "text/html": [
              "<table>\n",
              "<caption>A data.frame: 6 × 10</caption>\n",
              "<thead>\n",
              "\t<tr><th></th><th scope=col>Daily.Time.Spent.on.Site</th><th scope=col>Age</th><th scope=col>Area.Income</th><th scope=col>Daily.Internet.Usage</th><th scope=col>Ad.Topic.Line</th><th scope=col>City</th><th scope=col>Male</th><th scope=col>Country</th><th scope=col>Timestamp</th><th scope=col>Clicked.on.Ad</th></tr>\n",
              "\t<tr><th></th><th scope=col>&lt;dbl&gt;</th><th scope=col>&lt;int&gt;</th><th scope=col>&lt;dbl&gt;</th><th scope=col>&lt;dbl&gt;</th><th scope=col>&lt;chr&gt;</th><th scope=col>&lt;chr&gt;</th><th scope=col>&lt;int&gt;</th><th scope=col>&lt;chr&gt;</th><th scope=col>&lt;chr&gt;</th><th scope=col>&lt;int&gt;</th></tr>\n",
              "</thead>\n",
              "<tbody>\n",
              "\t<tr><th scope=row>1</th><td>68.95</td><td>35</td><td>61833.90</td><td>256.09</td><td>Cloned 5thgeneration orchestration   </td><td>Wrightburgh   </td><td>0</td><td>Tunisia   </td><td>2016-03-27 00:53:11</td><td>0</td></tr>\n",
              "\t<tr><th scope=row>2</th><td>80.23</td><td>31</td><td>68441.85</td><td>193.77</td><td>Monitored national standardization   </td><td>West Jodi     </td><td>1</td><td>Nauru     </td><td>2016-04-04 01:39:02</td><td>0</td></tr>\n",
              "\t<tr><th scope=row>3</th><td>69.47</td><td>26</td><td>59785.94</td><td>236.50</td><td>Organic bottom-line service-desk     </td><td>Davidton      </td><td>0</td><td>San Marino</td><td>2016-03-13 20:35:42</td><td>0</td></tr>\n",
              "\t<tr><th scope=row>4</th><td>74.15</td><td>29</td><td>54806.18</td><td>245.89</td><td>Triple-buffered reciprocal time-frame</td><td>West Terrifurt</td><td>1</td><td>Italy     </td><td>2016-01-10 02:31:19</td><td>0</td></tr>\n",
              "\t<tr><th scope=row>5</th><td>68.37</td><td>35</td><td>73889.99</td><td>225.58</td><td>Robust logistical utilization        </td><td>South Manuel  </td><td>0</td><td>Iceland   </td><td>2016-06-03 03:36:18</td><td>0</td></tr>\n",
              "\t<tr><th scope=row>6</th><td>59.99</td><td>23</td><td>59761.56</td><td>226.74</td><td>Sharable client-driven software      </td><td>Jamieberg     </td><td>1</td><td>Norway    </td><td>2016-05-19 14:30:17</td><td>0</td></tr>\n",
              "</tbody>\n",
              "</table>\n"
            ]
          },
          "metadata": {
            "tags": []
          }
        }
      ]
    },
    {
      "cell_type": "code",
      "metadata": {
        "id": "GcDdrPBqnXV2",
        "outputId": "3832942b-fdd0-4cf6-b493-3e5a79aca2a4",
        "colab": {
          "base_uri": "https://localhost:8080/",
          "height": 34
        }
      },
      "source": [
        "# checking for the dimensions of the data\n",
        "dim(advertising)\n",
        "\n",
        "# the data has 1000 rows and 10 columns "
      ],
      "execution_count": 2,
      "outputs": [
        {
          "output_type": "display_data",
          "data": {
            "text/plain": [
              "[1] 1000   10"
            ],
            "text/latex": "\\begin{enumerate*}\n\\item 1000\n\\item 10\n\\end{enumerate*}\n",
            "text/markdown": "1. 1000\n2. 10\n\n\n",
            "text/html": [
              "<style>\n",
              ".list-inline {list-style: none; margin:0; padding: 0}\n",
              ".list-inline>li {display: inline-block}\n",
              ".list-inline>li:not(:last-child)::after {content: \"\\00b7\"; padding: 0 .5ex}\n",
              "</style>\n",
              "<ol class=list-inline><li>1000</li><li>10</li></ol>\n"
            ]
          },
          "metadata": {
            "tags": []
          }
        }
      ]
    },
    {
      "cell_type": "code",
      "metadata": {
        "id": "JTj3ouxbn3th",
        "outputId": "86190ac0-9e3f-4e27-97a5-74dbd8cdade8",
        "colab": {
          "base_uri": "https://localhost:8080/"
        }
      },
      "source": [
        "# checking for the data types \n",
        "str(advertising)"
      ],
      "execution_count": 3,
      "outputs": [
        {
          "output_type": "stream",
          "text": [
            "'data.frame':\t1000 obs. of  10 variables:\n",
            " $ Daily.Time.Spent.on.Site: num  69 80.2 69.5 74.2 68.4 ...\n",
            " $ Age                     : int  35 31 26 29 35 23 33 48 30 20 ...\n",
            " $ Area.Income             : num  61834 68442 59786 54806 73890 ...\n",
            " $ Daily.Internet.Usage    : num  256 194 236 246 226 ...\n",
            " $ Ad.Topic.Line           : chr  \"Cloned 5thgeneration orchestration\" \"Monitored national standardization\" \"Organic bottom-line service-desk\" \"Triple-buffered reciprocal time-frame\" ...\n",
            " $ City                    : chr  \"Wrightburgh\" \"West Jodi\" \"Davidton\" \"West Terrifurt\" ...\n",
            " $ Male                    : int  0 1 0 1 0 1 0 1 1 1 ...\n",
            " $ Country                 : chr  \"Tunisia\" \"Nauru\" \"San Marino\" \"Italy\" ...\n",
            " $ Timestamp               : chr  \"2016-03-27 00:53:11\" \"2016-04-04 01:39:02\" \"2016-03-13 20:35:42\" \"2016-01-10 02:31:19\" ...\n",
            " $ Clicked.on.Ad           : int  0 0 0 0 0 0 0 1 0 0 ...\n"
          ],
          "name": "stdout"
        }
      ]
    },
    {
      "cell_type": "code",
      "metadata": {
        "id": "aW-T7GAyn9X8",
        "outputId": "e79c5af5-7679-47c9-d003-5745097b2a19",
        "colab": {
          "base_uri": "https://localhost:8080/",
          "height": 51
        }
      },
      "source": [
        "# checking for the sum of missing values \n",
        "missing <- is.na(advertising)\n",
        "colSums(missing)\n",
        "\n",
        "# there were no missing values in the data"
      ],
      "execution_count": 4,
      "outputs": [
        {
          "output_type": "display_data",
          "data": {
            "text/plain": [
              "Daily.Time.Spent.on.Site                      Age              Area.Income \n",
              "                       0                        0                        0 \n",
              "    Daily.Internet.Usage            Ad.Topic.Line                     City \n",
              "                       0                        0                        0 \n",
              "                    Male                  Country                Timestamp \n",
              "                       0                        0                        0 \n",
              "           Clicked.on.Ad \n",
              "                       0 "
            ],
            "text/latex": "\\begin{description*}\n\\item[Daily.Time.Spent.on.Site] 0\n\\item[Age] 0\n\\item[Area.Income] 0\n\\item[Daily.Internet.Usage] 0\n\\item[Ad.Topic.Line] 0\n\\item[City] 0\n\\item[Male] 0\n\\item[Country] 0\n\\item[Timestamp] 0\n\\item[Clicked.on.Ad] 0\n\\end{description*}\n",
            "text/markdown": "Daily.Time.Spent.on.Site\n:   0Age\n:   0Area.Income\n:   0Daily.Internet.Usage\n:   0Ad.Topic.Line\n:   0City\n:   0Male\n:   0Country\n:   0Timestamp\n:   0Clicked.on.Ad\n:   0\n\n",
            "text/html": [
              "<style>\n",
              ".dl-inline {width: auto; margin:0; padding: 0}\n",
              ".dl-inline>dt, .dl-inline>dd {float: none; width: auto; display: inline-block}\n",
              ".dl-inline>dt::after {content: \":\\0020\"; padding-right: .5ex}\n",
              ".dl-inline>dt:not(:first-of-type) {padding-left: .5ex}\n",
              "</style><dl class=dl-inline><dt>Daily.Time.Spent.on.Site</dt><dd>0</dd><dt>Age</dt><dd>0</dd><dt>Area.Income</dt><dd>0</dd><dt>Daily.Internet.Usage</dt><dd>0</dd><dt>Ad.Topic.Line</dt><dd>0</dd><dt>City</dt><dd>0</dd><dt>Male</dt><dd>0</dd><dt>Country</dt><dd>0</dd><dt>Timestamp</dt><dd>0</dd><dt>Clicked.on.Ad</dt><dd>0</dd></dl>\n"
            ]
          },
          "metadata": {
            "tags": []
          }
        }
      ]
    },
    {
      "cell_type": "code",
      "metadata": {
        "id": "Wf1hn50bpD5H",
        "outputId": "82821f56-a9cb-4bdf-bfbe-db290921d860",
        "colab": {
          "base_uri": "https://localhost:8080/"
        }
      },
      "source": [
        "# checking the data types\n",
        "str(advertising)\n"
      ],
      "execution_count": 5,
      "outputs": [
        {
          "output_type": "stream",
          "text": [
            "'data.frame':\t1000 obs. of  10 variables:\n",
            " $ Daily.Time.Spent.on.Site: num  69 80.2 69.5 74.2 68.4 ...\n",
            " $ Age                     : int  35 31 26 29 35 23 33 48 30 20 ...\n",
            " $ Area.Income             : num  61834 68442 59786 54806 73890 ...\n",
            " $ Daily.Internet.Usage    : num  256 194 236 246 226 ...\n",
            " $ Ad.Topic.Line           : chr  \"Cloned 5thgeneration orchestration\" \"Monitored national standardization\" \"Organic bottom-line service-desk\" \"Triple-buffered reciprocal time-frame\" ...\n",
            " $ City                    : chr  \"Wrightburgh\" \"West Jodi\" \"Davidton\" \"West Terrifurt\" ...\n",
            " $ Male                    : int  0 1 0 1 0 1 0 1 1 1 ...\n",
            " $ Country                 : chr  \"Tunisia\" \"Nauru\" \"San Marino\" \"Italy\" ...\n",
            " $ Timestamp               : chr  \"2016-03-27 00:53:11\" \"2016-04-04 01:39:02\" \"2016-03-13 20:35:42\" \"2016-01-10 02:31:19\" ...\n",
            " $ Clicked.on.Ad           : int  0 0 0 0 0 0 0 1 0 0 ...\n"
          ],
          "name": "stdout"
        }
      ]
    },
    {
      "cell_type": "code",
      "metadata": {
        "id": "njwS0_Cv2MDd",
        "outputId": "3087b11c-ece4-4c10-f32d-9b73eb756312",
        "colab": {
          "base_uri": "https://localhost:8080/",
          "height": 1000
        }
      },
      "source": [
        "# checking for the unique items\n",
        "unique_items <- advertising[!duplicated(advertising),]\n",
        "unique_items\n",
        "# there were no duplicate values "
      ],
      "execution_count": 6,
      "outputs": [
        {
          "output_type": "display_data",
          "data": {
            "text/plain": [
              "     Daily.Time.Spent.on.Site Age Area.Income Daily.Internet.Usage\n",
              "1    68.95                    35  61833.90    256.09              \n",
              "2    80.23                    31  68441.85    193.77              \n",
              "3    69.47                    26  59785.94    236.50              \n",
              "4    74.15                    29  54806.18    245.89              \n",
              "5    68.37                    35  73889.99    225.58              \n",
              "6    59.99                    23  59761.56    226.74              \n",
              "7    88.91                    33  53852.85    208.36              \n",
              "8    66.00                    48  24593.33    131.76              \n",
              "9    74.53                    30  68862.00    221.51              \n",
              "10   69.88                    20  55642.32    183.82              \n",
              "11   47.64                    49  45632.51    122.02              \n",
              "12   83.07                    37  62491.01    230.87              \n",
              "13   69.57                    48  51636.92    113.12              \n",
              "14   79.52                    24  51739.63    214.23              \n",
              "15   42.95                    33  30976.00    143.56              \n",
              "16   63.45                    23  52182.23    140.64              \n",
              "17   55.39                    37  23936.86    129.41              \n",
              "18   82.03                    41  71511.08    187.53              \n",
              "19   54.70                    36  31087.54    118.39              \n",
              "20   74.58                    40  23821.72    135.51              \n",
              "21   77.22                    30  64802.33    224.44              \n",
              "22   84.59                    35  60015.57    226.54              \n",
              "23   41.49                    52  32635.70    164.83              \n",
              "24   87.29                    36  61628.72    209.93              \n",
              "25   41.39                    41  68962.32    167.22              \n",
              "26   78.74                    28  64828.00    204.79              \n",
              "27   48.53                    28  38067.08    134.14              \n",
              "28   51.95                    52  58295.82    129.23              \n",
              "29   70.20                    34  32708.94    119.20              \n",
              "30   76.02                    22  46179.97    209.82              \n",
              "⋮    ⋮                        ⋮   ⋮           ⋮                   \n",
              "971  40.18                    29  50760.23    151.96              \n",
              "972  45.17                    48  34418.09    132.07              \n",
              "973  50.48                    50  20592.99    162.43              \n",
              "974  80.87                    28  63528.80    203.30              \n",
              "975  41.88                    40  44217.68    126.11              \n",
              "976  39.87                    48  47929.83    139.34              \n",
              "977  61.84                    45  46024.29    105.63              \n",
              "978  54.97                    31  51900.03    116.38              \n",
              "979  71.40                    30  72188.90    166.31              \n",
              "980  70.29                    31  56974.51    254.65              \n",
              "981  67.26                    57  25682.65    168.41              \n",
              "982  76.58                    46  41884.64    258.26              \n",
              "983  54.37                    38  72196.29    140.77              \n",
              "984  82.79                    32  54429.17    234.81              \n",
              "985  66.47                    31  58037.66    256.39              \n",
              "986  72.88                    44  64011.26    125.12              \n",
              "987  76.44                    28  59967.19    232.68              \n",
              "988  63.37                    43  43155.19    105.04              \n",
              "989  89.71                    48  51501.38    204.40              \n",
              "990  70.96                    31  55187.85    256.40              \n",
              "991  35.79                    44  33813.08    165.62              \n",
              "992  38.96                    38  36497.22    140.67              \n",
              "993  69.17                    40  66193.81    123.62              \n",
              "994  64.20                    27  66200.96    227.63              \n",
              "995  43.70                    28  63126.96    173.01              \n",
              "996  72.97                    30  71384.57    208.58              \n",
              "997  51.30                    45  67782.17    134.42              \n",
              "998  51.63                    51  42415.72    120.37              \n",
              "999  55.55                    19  41920.79    187.95              \n",
              "1000 45.01                    26  29875.80    178.35              \n",
              "     Ad.Topic.Line                                 City              Male\n",
              "1    Cloned 5thgeneration orchestration            Wrightburgh       0   \n",
              "2    Monitored national standardization            West Jodi         1   \n",
              "3    Organic bottom-line service-desk              Davidton          0   \n",
              "4    Triple-buffered reciprocal time-frame         West Terrifurt    1   \n",
              "5    Robust logistical utilization                 South Manuel      0   \n",
              "6    Sharable client-driven software               Jamieberg         1   \n",
              "7    Enhanced dedicated support                    Brandonstad       0   \n",
              "8    Reactive local challenge                      Port Jefferybury  1   \n",
              "9    Configurable coherent function                West Colin        1   \n",
              "10   Mandatory homogeneous architecture            Ramirezton        1   \n",
              "11   Centralized neutral neural-net                West Brandonton   0   \n",
              "12   Team-oriented grid-enabled Local Area Network East Theresashire 1   \n",
              "13   Centralized content-based focus group         West Katiefurt    1   \n",
              "14   Synergistic fresh-thinking array              North Tara        0   \n",
              "15   Grass-roots coherent extranet                 West William      0   \n",
              "16   Persistent demand-driven interface            New Travistown    1   \n",
              "17   Customizable multi-tasking website            West Dylanberg    0   \n",
              "18   Intuitive dynamic attitude                    Pruittmouth       0   \n",
              "19   Grass-roots solution-oriented conglomeration  Jessicastad       1   \n",
              "20   Advanced 24/7 productivity                    Millertown        1   \n",
              "21   Object-based reciprocal knowledgebase         Port Jacqueline   1   \n",
              "22   Streamlined non-volatile analyzer             Lake Nicole       1   \n",
              "23   Mandatory disintermediate utilization         South John        0   \n",
              "24   Future-proofed methodical protocol            Pamelamouth       1   \n",
              "25   Exclusive neutral parallelism                 Harperborough     0   \n",
              "26   Public-key foreground groupware               Port Danielleberg 1   \n",
              "27   Ameliorated client-driven forecast            West Jeremyside   1   \n",
              "28   Monitored systematic hierarchy                South Cathyfurt   0   \n",
              "29   Open-architected impactful productivity       Palmerside        0   \n",
              "30   Business-focused value-added definition       West Guybury      0   \n",
              "⋮    ⋮                                             ⋮                 ⋮   \n",
              "971  Enhanced intangible portal                    Lake Tracy        0   \n",
              "972  Down-sized background groupware               Taylormouth       1   \n",
              "973  Switchable real-time product                  Dianaville        0   \n",
              "974  Ameliorated local workforce                   Collinsburgh      0   \n",
              "975  Streamlined exuding adapter                   Port Rachel       1   \n",
              "976  Business-focused user-facing benchmark        South Rebecca     1   \n",
              "977  Reactive bi-directional standardization       Port Joshuafort   1   \n",
              "978  Virtual bifurcated portal                     Robinsontown      1   \n",
              "979  Integrated 3rdgeneration monitoring           Beckton           0   \n",
              "980  Balanced responsive open system               New Frankshire    1   \n",
              "981  Focused incremental Graphic Interface         North Derekville  1   \n",
              "982  Secured 24hour policy                         West Sydney       0   \n",
              "983  Up-sized asymmetric firmware                  Lake Matthew      0   \n",
              "984  Distributed fault-tolerant service-desk       Lake Zacharyfurt  1   \n",
              "985  Vision-oriented human-resource synergy        Lindsaymouth      1   \n",
              "986  Customer-focused explicit challenge           Sarahland         0   \n",
              "987  Synchronized human-resource moderator         Port Julie        1   \n",
              "988  Open-architected full-range projection        Michaelshire      1   \n",
              "989  Versatile local forecast                      Sarafurt          1   \n",
              "990  Ameliorated user-facing help-desk             South Denise      0   \n",
              "991  Enterprise-wide tangible model                North Katie       1   \n",
              "992  Versatile mission-critical application        Mauricefurt       1   \n",
              "993  Extended leadingedge solution                 New Patrick       0   \n",
              "994  Phased zero tolerance extranet                Edwardsmouth      1   \n",
              "995  Front-line bifurcated ability                 Nicholasland      0   \n",
              "996  Fundamental modular algorithm                 Duffystad         1   \n",
              "997  Grass-roots cohesive monitoring               New Darlene       1   \n",
              "998  Expanded intangible solution                  South Jessica     1   \n",
              "999  Proactive bandwidth-monitored policy          West Steven       0   \n",
              "1000 Virtual 5thgeneration emulation               Ronniemouth       0   \n",
              "     Country                                             Timestamp          \n",
              "1    Tunisia                                             2016-03-27 00:53:11\n",
              "2    Nauru                                               2016-04-04 01:39:02\n",
              "3    San Marino                                          2016-03-13 20:35:42\n",
              "4    Italy                                               2016-01-10 02:31:19\n",
              "5    Iceland                                             2016-06-03 03:36:18\n",
              "6    Norway                                              2016-05-19 14:30:17\n",
              "7    Myanmar                                             2016-01-28 20:59:32\n",
              "8    Australia                                           2016-03-07 01:40:15\n",
              "9    Grenada                                             2016-04-18 09:33:42\n",
              "10   Ghana                                               2016-07-11 01:42:51\n",
              "11   Qatar                                               2016-03-16 20:19:01\n",
              "12   Burundi                                             2016-05-08 08:10:10\n",
              "13   Egypt                                               2016-06-03 01:14:41\n",
              "14   Bosnia and Herzegovina                              2016-04-20 21:49:22\n",
              "15   Barbados                                            2016-03-24 09:31:49\n",
              "16   Spain                                               2016-03-09 03:41:30\n",
              "17   Palestinian Territory                               2016-01-30 19:20:41\n",
              "18   Afghanistan                                         2016-05-02 07:00:58\n",
              "19   British Indian Ocean Territory (Chagos Archipelago) 2016-02-13 07:53:55\n",
              "20   Russian Federation                                  2016-02-27 04:43:07\n",
              "21   Cameroon                                            2016-01-05 07:52:48\n",
              "22   Cameroon                                            2016-03-18 13:22:35\n",
              "23   Burundi                                             2016-05-20 08:49:33\n",
              "24   Korea                                               2016-03-23 09:43:43\n",
              "25   Tokelau                                             2016-06-13 17:27:09\n",
              "26   Monaco                                              2016-05-27 15:25:52\n",
              "27   Tuvalu                                              2016-02-08 10:46:14\n",
              "28   Greece                                              2016-07-19 08:32:10\n",
              "29   British Virgin Islands                              2016-04-14 05:08:35\n",
              "30   Bouvet Island (Bouvetoya)                           2016-01-27 12:38:16\n",
              "⋮    ⋮                                                   ⋮                  \n",
              "971  Hong Kong                                           2016-06-25 04:21:33\n",
              "972  Palau                                               2016-01-27 14:41:10\n",
              "973  Malawi                                              2016-05-16 18:51:59\n",
              "974  Uruguay                                             2016-02-27 20:20:25\n",
              "975  Cyprus                                              2016-02-28 23:54:44\n",
              "976  Mexico                                              2016-06-13 06:11:33\n",
              "977  Niger                                               2016-05-05 11:07:13\n",
              "978  France                                              2016-07-07 12:17:33\n",
              "979  Japan                                               2016-05-24 17:07:08\n",
              "980  Norfolk Island                                      2016-03-30 14:36:55\n",
              "981  Bulgaria                                            2016-05-27 05:54:03\n",
              "982  Uzbekistan                                          2016-01-03 16:30:51\n",
              "983  Mexico                                              2016-06-25 18:17:53\n",
              "984  Brunei Darussalam                                   2016-02-24 10:36:43\n",
              "985  France                                              2016-03-03 03:13:48\n",
              "986  Yemen                                               2016-04-21 19:56:24\n",
              "987  Northern Mariana Islands                            2016-04-06 17:26:37\n",
              "988  Poland                                              2016-03-23 12:53:23\n",
              "989  Bahrain                                             2016-02-17 07:00:38\n",
              "990  Saint Pierre and Miquelon                           2016-06-26 07:01:47\n",
              "991  Tonga                                               2016-04-20 13:36:42\n",
              "992  Comoros                                             2016-07-21 16:02:40\n",
              "993  Montenegro                                          2016-03-06 11:36:06\n",
              "994  Isle of Man                                         2016-02-11 23:45:01\n",
              "995  Mayotte                                             2016-04-04 03:57:48\n",
              "996  Lebanon                                             2016-02-11 21:49:00\n",
              "997  Bosnia and Herzegovina                              2016-04-22 02:07:01\n",
              "998  Mongolia                                            2016-02-01 17:24:57\n",
              "999  Guatemala                                           2016-03-24 02:35:54\n",
              "1000 Brazil                                              2016-06-03 21:43:21\n",
              "     Clicked.on.Ad\n",
              "1    0            \n",
              "2    0            \n",
              "3    0            \n",
              "4    0            \n",
              "5    0            \n",
              "6    0            \n",
              "7    0            \n",
              "8    1            \n",
              "9    0            \n",
              "10   0            \n",
              "11   1            \n",
              "12   0            \n",
              "13   1            \n",
              "14   0            \n",
              "15   1            \n",
              "16   1            \n",
              "17   1            \n",
              "18   0            \n",
              "19   1            \n",
              "20   1            \n",
              "21   0            \n",
              "22   0            \n",
              "23   1            \n",
              "24   0            \n",
              "25   1            \n",
              "26   0            \n",
              "27   1            \n",
              "28   1            \n",
              "29   1            \n",
              "30   0            \n",
              "⋮    ⋮            \n",
              "971  1            \n",
              "972  1            \n",
              "973  1            \n",
              "974  0            \n",
              "975  1            \n",
              "976  1            \n",
              "977  1            \n",
              "978  1            \n",
              "979  0            \n",
              "980  0            \n",
              "981  1            \n",
              "982  0            \n",
              "983  1            \n",
              "984  0            \n",
              "985  0            \n",
              "986  1            \n",
              "987  0            \n",
              "988  1            \n",
              "989  0            \n",
              "990  0            \n",
              "991  1            \n",
              "992  1            \n",
              "993  1            \n",
              "994  0            \n",
              "995  1            \n",
              "996  1            \n",
              "997  1            \n",
              "998  1            \n",
              "999  0            \n",
              "1000 1            "
            ],
            "text/latex": "A data.frame: 1000 × 10\n\\begin{tabular}{r|llllllllll}\n  & Daily.Time.Spent.on.Site & Age & Area.Income & Daily.Internet.Usage & Ad.Topic.Line & City & Male & Country & Timestamp & Clicked.on.Ad\\\\\n  & <dbl> & <int> & <dbl> & <dbl> & <chr> & <chr> & <int> & <chr> & <chr> & <int>\\\\\n\\hline\n\t1 & 68.95 & 35 & 61833.90 & 256.09 & Cloned 5thgeneration orchestration            & Wrightburgh       & 0 & Tunisia                                             & 2016-03-27 00:53:11 & 0\\\\\n\t2 & 80.23 & 31 & 68441.85 & 193.77 & Monitored national standardization            & West Jodi         & 1 & Nauru                                               & 2016-04-04 01:39:02 & 0\\\\\n\t3 & 69.47 & 26 & 59785.94 & 236.50 & Organic bottom-line service-desk              & Davidton          & 0 & San Marino                                          & 2016-03-13 20:35:42 & 0\\\\\n\t4 & 74.15 & 29 & 54806.18 & 245.89 & Triple-buffered reciprocal time-frame         & West Terrifurt    & 1 & Italy                                               & 2016-01-10 02:31:19 & 0\\\\\n\t5 & 68.37 & 35 & 73889.99 & 225.58 & Robust logistical utilization                 & South Manuel      & 0 & Iceland                                             & 2016-06-03 03:36:18 & 0\\\\\n\t6 & 59.99 & 23 & 59761.56 & 226.74 & Sharable client-driven software               & Jamieberg         & 1 & Norway                                              & 2016-05-19 14:30:17 & 0\\\\\n\t7 & 88.91 & 33 & 53852.85 & 208.36 & Enhanced dedicated support                    & Brandonstad       & 0 & Myanmar                                             & 2016-01-28 20:59:32 & 0\\\\\n\t8 & 66.00 & 48 & 24593.33 & 131.76 & Reactive local challenge                      & Port Jefferybury  & 1 & Australia                                           & 2016-03-07 01:40:15 & 1\\\\\n\t9 & 74.53 & 30 & 68862.00 & 221.51 & Configurable coherent function                & West Colin        & 1 & Grenada                                             & 2016-04-18 09:33:42 & 0\\\\\n\t10 & 69.88 & 20 & 55642.32 & 183.82 & Mandatory homogeneous architecture            & Ramirezton        & 1 & Ghana                                               & 2016-07-11 01:42:51 & 0\\\\\n\t11 & 47.64 & 49 & 45632.51 & 122.02 & Centralized neutral neural-net                & West Brandonton   & 0 & Qatar                                               & 2016-03-16 20:19:01 & 1\\\\\n\t12 & 83.07 & 37 & 62491.01 & 230.87 & Team-oriented grid-enabled Local Area Network & East Theresashire & 1 & Burundi                                             & 2016-05-08 08:10:10 & 0\\\\\n\t13 & 69.57 & 48 & 51636.92 & 113.12 & Centralized content-based focus group         & West Katiefurt    & 1 & Egypt                                               & 2016-06-03 01:14:41 & 1\\\\\n\t14 & 79.52 & 24 & 51739.63 & 214.23 & Synergistic fresh-thinking array              & North Tara        & 0 & Bosnia and Herzegovina                              & 2016-04-20 21:49:22 & 0\\\\\n\t15 & 42.95 & 33 & 30976.00 & 143.56 & Grass-roots coherent extranet                 & West William      & 0 & Barbados                                            & 2016-03-24 09:31:49 & 1\\\\\n\t16 & 63.45 & 23 & 52182.23 & 140.64 & Persistent demand-driven interface            & New Travistown    & 1 & Spain                                               & 2016-03-09 03:41:30 & 1\\\\\n\t17 & 55.39 & 37 & 23936.86 & 129.41 & Customizable multi-tasking website            & West Dylanberg    & 0 & Palestinian Territory                               & 2016-01-30 19:20:41 & 1\\\\\n\t18 & 82.03 & 41 & 71511.08 & 187.53 & Intuitive dynamic attitude                    & Pruittmouth       & 0 & Afghanistan                                         & 2016-05-02 07:00:58 & 0\\\\\n\t19 & 54.70 & 36 & 31087.54 & 118.39 & Grass-roots solution-oriented conglomeration  & Jessicastad       & 1 & British Indian Ocean Territory (Chagos Archipelago) & 2016-02-13 07:53:55 & 1\\\\\n\t20 & 74.58 & 40 & 23821.72 & 135.51 & Advanced 24/7 productivity                    & Millertown        & 1 & Russian Federation                                  & 2016-02-27 04:43:07 & 1\\\\\n\t21 & 77.22 & 30 & 64802.33 & 224.44 & Object-based reciprocal knowledgebase         & Port Jacqueline   & 1 & Cameroon                                            & 2016-01-05 07:52:48 & 0\\\\\n\t22 & 84.59 & 35 & 60015.57 & 226.54 & Streamlined non-volatile analyzer             & Lake Nicole       & 1 & Cameroon                                            & 2016-03-18 13:22:35 & 0\\\\\n\t23 & 41.49 & 52 & 32635.70 & 164.83 & Mandatory disintermediate utilization         & South John        & 0 & Burundi                                             & 2016-05-20 08:49:33 & 1\\\\\n\t24 & 87.29 & 36 & 61628.72 & 209.93 & Future-proofed methodical protocol            & Pamelamouth       & 1 & Korea                                               & 2016-03-23 09:43:43 & 0\\\\\n\t25 & 41.39 & 41 & 68962.32 & 167.22 & Exclusive neutral parallelism                 & Harperborough     & 0 & Tokelau                                             & 2016-06-13 17:27:09 & 1\\\\\n\t26 & 78.74 & 28 & 64828.00 & 204.79 & Public-key foreground groupware               & Port Danielleberg & 1 & Monaco                                              & 2016-05-27 15:25:52 & 0\\\\\n\t27 & 48.53 & 28 & 38067.08 & 134.14 & Ameliorated client-driven forecast            & West Jeremyside   & 1 & Tuvalu                                              & 2016-02-08 10:46:14 & 1\\\\\n\t28 & 51.95 & 52 & 58295.82 & 129.23 & Monitored systematic hierarchy                & South Cathyfurt   & 0 & Greece                                              & 2016-07-19 08:32:10 & 1\\\\\n\t29 & 70.20 & 34 & 32708.94 & 119.20 & Open-architected impactful productivity       & Palmerside        & 0 & British Virgin Islands                              & 2016-04-14 05:08:35 & 1\\\\\n\t30 & 76.02 & 22 & 46179.97 & 209.82 & Business-focused value-added definition       & West Guybury      & 0 & Bouvet Island (Bouvetoya)                           & 2016-01-27 12:38:16 & 0\\\\\n\t⋮ & ⋮ & ⋮ & ⋮ & ⋮ & ⋮ & ⋮ & ⋮ & ⋮ & ⋮ & ⋮\\\\\n\t971 & 40.18 & 29 & 50760.23 & 151.96 & Enhanced intangible portal              & Lake Tracy       & 0 & Hong Kong                 & 2016-06-25 04:21:33 & 1\\\\\n\t972 & 45.17 & 48 & 34418.09 & 132.07 & Down-sized background groupware         & Taylormouth      & 1 & Palau                     & 2016-01-27 14:41:10 & 1\\\\\n\t973 & 50.48 & 50 & 20592.99 & 162.43 & Switchable real-time product            & Dianaville       & 0 & Malawi                    & 2016-05-16 18:51:59 & 1\\\\\n\t974 & 80.87 & 28 & 63528.80 & 203.30 & Ameliorated local workforce             & Collinsburgh     & 0 & Uruguay                   & 2016-02-27 20:20:25 & 0\\\\\n\t975 & 41.88 & 40 & 44217.68 & 126.11 & Streamlined exuding adapter             & Port Rachel      & 1 & Cyprus                    & 2016-02-28 23:54:44 & 1\\\\\n\t976 & 39.87 & 48 & 47929.83 & 139.34 & Business-focused user-facing benchmark  & South Rebecca    & 1 & Mexico                    & 2016-06-13 06:11:33 & 1\\\\\n\t977 & 61.84 & 45 & 46024.29 & 105.63 & Reactive bi-directional standardization & Port Joshuafort  & 1 & Niger                     & 2016-05-05 11:07:13 & 1\\\\\n\t978 & 54.97 & 31 & 51900.03 & 116.38 & Virtual bifurcated portal               & Robinsontown     & 1 & France                    & 2016-07-07 12:17:33 & 1\\\\\n\t979 & 71.40 & 30 & 72188.90 & 166.31 & Integrated 3rdgeneration monitoring     & Beckton          & 0 & Japan                     & 2016-05-24 17:07:08 & 0\\\\\n\t980 & 70.29 & 31 & 56974.51 & 254.65 & Balanced responsive open system         & New Frankshire   & 1 & Norfolk Island            & 2016-03-30 14:36:55 & 0\\\\\n\t981 & 67.26 & 57 & 25682.65 & 168.41 & Focused incremental Graphic Interface   & North Derekville & 1 & Bulgaria                  & 2016-05-27 05:54:03 & 1\\\\\n\t982 & 76.58 & 46 & 41884.64 & 258.26 & Secured 24hour policy                   & West Sydney      & 0 & Uzbekistan                & 2016-01-03 16:30:51 & 0\\\\\n\t983 & 54.37 & 38 & 72196.29 & 140.77 & Up-sized asymmetric firmware            & Lake Matthew     & 0 & Mexico                    & 2016-06-25 18:17:53 & 1\\\\\n\t984 & 82.79 & 32 & 54429.17 & 234.81 & Distributed fault-tolerant service-desk & Lake Zacharyfurt & 1 & Brunei Darussalam         & 2016-02-24 10:36:43 & 0\\\\\n\t985 & 66.47 & 31 & 58037.66 & 256.39 & Vision-oriented human-resource synergy  & Lindsaymouth     & 1 & France                    & 2016-03-03 03:13:48 & 0\\\\\n\t986 & 72.88 & 44 & 64011.26 & 125.12 & Customer-focused explicit challenge     & Sarahland        & 0 & Yemen                     & 2016-04-21 19:56:24 & 1\\\\\n\t987 & 76.44 & 28 & 59967.19 & 232.68 & Synchronized human-resource moderator   & Port Julie       & 1 & Northern Mariana Islands  & 2016-04-06 17:26:37 & 0\\\\\n\t988 & 63.37 & 43 & 43155.19 & 105.04 & Open-architected full-range projection  & Michaelshire     & 1 & Poland                    & 2016-03-23 12:53:23 & 1\\\\\n\t989 & 89.71 & 48 & 51501.38 & 204.40 & Versatile local forecast                & Sarafurt         & 1 & Bahrain                   & 2016-02-17 07:00:38 & 0\\\\\n\t990 & 70.96 & 31 & 55187.85 & 256.40 & Ameliorated user-facing help-desk       & South Denise     & 0 & Saint Pierre and Miquelon & 2016-06-26 07:01:47 & 0\\\\\n\t991 & 35.79 & 44 & 33813.08 & 165.62 & Enterprise-wide tangible model          & North Katie      & 1 & Tonga                     & 2016-04-20 13:36:42 & 1\\\\\n\t992 & 38.96 & 38 & 36497.22 & 140.67 & Versatile mission-critical application  & Mauricefurt      & 1 & Comoros                   & 2016-07-21 16:02:40 & 1\\\\\n\t993 & 69.17 & 40 & 66193.81 & 123.62 & Extended leadingedge solution           & New Patrick      & 0 & Montenegro                & 2016-03-06 11:36:06 & 1\\\\\n\t994 & 64.20 & 27 & 66200.96 & 227.63 & Phased zero tolerance extranet          & Edwardsmouth     & 1 & Isle of Man               & 2016-02-11 23:45:01 & 0\\\\\n\t995 & 43.70 & 28 & 63126.96 & 173.01 & Front-line bifurcated ability           & Nicholasland     & 0 & Mayotte                   & 2016-04-04 03:57:48 & 1\\\\\n\t996 & 72.97 & 30 & 71384.57 & 208.58 & Fundamental modular algorithm           & Duffystad        & 1 & Lebanon                   & 2016-02-11 21:49:00 & 1\\\\\n\t997 & 51.30 & 45 & 67782.17 & 134.42 & Grass-roots cohesive monitoring         & New Darlene      & 1 & Bosnia and Herzegovina    & 2016-04-22 02:07:01 & 1\\\\\n\t998 & 51.63 & 51 & 42415.72 & 120.37 & Expanded intangible solution            & South Jessica    & 1 & Mongolia                  & 2016-02-01 17:24:57 & 1\\\\\n\t999 & 55.55 & 19 & 41920.79 & 187.95 & Proactive bandwidth-monitored policy    & West Steven      & 0 & Guatemala                 & 2016-03-24 02:35:54 & 0\\\\\n\t1000 & 45.01 & 26 & 29875.80 & 178.35 & Virtual 5thgeneration emulation         & Ronniemouth      & 0 & Brazil                    & 2016-06-03 21:43:21 & 1\\\\\n\\end{tabular}\n",
            "text/markdown": "\nA data.frame: 1000 × 10\n\n| <!--/--> | Daily.Time.Spent.on.Site &lt;dbl&gt; | Age &lt;int&gt; | Area.Income &lt;dbl&gt; | Daily.Internet.Usage &lt;dbl&gt; | Ad.Topic.Line &lt;chr&gt; | City &lt;chr&gt; | Male &lt;int&gt; | Country &lt;chr&gt; | Timestamp &lt;chr&gt; | Clicked.on.Ad &lt;int&gt; |\n|---|---|---|---|---|---|---|---|---|---|---|\n| 1 | 68.95 | 35 | 61833.90 | 256.09 | Cloned 5thgeneration orchestration            | Wrightburgh       | 0 | Tunisia                                             | 2016-03-27 00:53:11 | 0 |\n| 2 | 80.23 | 31 | 68441.85 | 193.77 | Monitored national standardization            | West Jodi         | 1 | Nauru                                               | 2016-04-04 01:39:02 | 0 |\n| 3 | 69.47 | 26 | 59785.94 | 236.50 | Organic bottom-line service-desk              | Davidton          | 0 | San Marino                                          | 2016-03-13 20:35:42 | 0 |\n| 4 | 74.15 | 29 | 54806.18 | 245.89 | Triple-buffered reciprocal time-frame         | West Terrifurt    | 1 | Italy                                               | 2016-01-10 02:31:19 | 0 |\n| 5 | 68.37 | 35 | 73889.99 | 225.58 | Robust logistical utilization                 | South Manuel      | 0 | Iceland                                             | 2016-06-03 03:36:18 | 0 |\n| 6 | 59.99 | 23 | 59761.56 | 226.74 | Sharable client-driven software               | Jamieberg         | 1 | Norway                                              | 2016-05-19 14:30:17 | 0 |\n| 7 | 88.91 | 33 | 53852.85 | 208.36 | Enhanced dedicated support                    | Brandonstad       | 0 | Myanmar                                             | 2016-01-28 20:59:32 | 0 |\n| 8 | 66.00 | 48 | 24593.33 | 131.76 | Reactive local challenge                      | Port Jefferybury  | 1 | Australia                                           | 2016-03-07 01:40:15 | 1 |\n| 9 | 74.53 | 30 | 68862.00 | 221.51 | Configurable coherent function                | West Colin        | 1 | Grenada                                             | 2016-04-18 09:33:42 | 0 |\n| 10 | 69.88 | 20 | 55642.32 | 183.82 | Mandatory homogeneous architecture            | Ramirezton        | 1 | Ghana                                               | 2016-07-11 01:42:51 | 0 |\n| 11 | 47.64 | 49 | 45632.51 | 122.02 | Centralized neutral neural-net                | West Brandonton   | 0 | Qatar                                               | 2016-03-16 20:19:01 | 1 |\n| 12 | 83.07 | 37 | 62491.01 | 230.87 | Team-oriented grid-enabled Local Area Network | East Theresashire | 1 | Burundi                                             | 2016-05-08 08:10:10 | 0 |\n| 13 | 69.57 | 48 | 51636.92 | 113.12 | Centralized content-based focus group         | West Katiefurt    | 1 | Egypt                                               | 2016-06-03 01:14:41 | 1 |\n| 14 | 79.52 | 24 | 51739.63 | 214.23 | Synergistic fresh-thinking array              | North Tara        | 0 | Bosnia and Herzegovina                              | 2016-04-20 21:49:22 | 0 |\n| 15 | 42.95 | 33 | 30976.00 | 143.56 | Grass-roots coherent extranet                 | West William      | 0 | Barbados                                            | 2016-03-24 09:31:49 | 1 |\n| 16 | 63.45 | 23 | 52182.23 | 140.64 | Persistent demand-driven interface            | New Travistown    | 1 | Spain                                               | 2016-03-09 03:41:30 | 1 |\n| 17 | 55.39 | 37 | 23936.86 | 129.41 | Customizable multi-tasking website            | West Dylanberg    | 0 | Palestinian Territory                               | 2016-01-30 19:20:41 | 1 |\n| 18 | 82.03 | 41 | 71511.08 | 187.53 | Intuitive dynamic attitude                    | Pruittmouth       | 0 | Afghanistan                                         | 2016-05-02 07:00:58 | 0 |\n| 19 | 54.70 | 36 | 31087.54 | 118.39 | Grass-roots solution-oriented conglomeration  | Jessicastad       | 1 | British Indian Ocean Territory (Chagos Archipelago) | 2016-02-13 07:53:55 | 1 |\n| 20 | 74.58 | 40 | 23821.72 | 135.51 | Advanced 24/7 productivity                    | Millertown        | 1 | Russian Federation                                  | 2016-02-27 04:43:07 | 1 |\n| 21 | 77.22 | 30 | 64802.33 | 224.44 | Object-based reciprocal knowledgebase         | Port Jacqueline   | 1 | Cameroon                                            | 2016-01-05 07:52:48 | 0 |\n| 22 | 84.59 | 35 | 60015.57 | 226.54 | Streamlined non-volatile analyzer             | Lake Nicole       | 1 | Cameroon                                            | 2016-03-18 13:22:35 | 0 |\n| 23 | 41.49 | 52 | 32635.70 | 164.83 | Mandatory disintermediate utilization         | South John        | 0 | Burundi                                             | 2016-05-20 08:49:33 | 1 |\n| 24 | 87.29 | 36 | 61628.72 | 209.93 | Future-proofed methodical protocol            | Pamelamouth       | 1 | Korea                                               | 2016-03-23 09:43:43 | 0 |\n| 25 | 41.39 | 41 | 68962.32 | 167.22 | Exclusive neutral parallelism                 | Harperborough     | 0 | Tokelau                                             | 2016-06-13 17:27:09 | 1 |\n| 26 | 78.74 | 28 | 64828.00 | 204.79 | Public-key foreground groupware               | Port Danielleberg | 1 | Monaco                                              | 2016-05-27 15:25:52 | 0 |\n| 27 | 48.53 | 28 | 38067.08 | 134.14 | Ameliorated client-driven forecast            | West Jeremyside   | 1 | Tuvalu                                              | 2016-02-08 10:46:14 | 1 |\n| 28 | 51.95 | 52 | 58295.82 | 129.23 | Monitored systematic hierarchy                | South Cathyfurt   | 0 | Greece                                              | 2016-07-19 08:32:10 | 1 |\n| 29 | 70.20 | 34 | 32708.94 | 119.20 | Open-architected impactful productivity       | Palmerside        | 0 | British Virgin Islands                              | 2016-04-14 05:08:35 | 1 |\n| 30 | 76.02 | 22 | 46179.97 | 209.82 | Business-focused value-added definition       | West Guybury      | 0 | Bouvet Island (Bouvetoya)                           | 2016-01-27 12:38:16 | 0 |\n| ⋮ | ⋮ | ⋮ | ⋮ | ⋮ | ⋮ | ⋮ | ⋮ | ⋮ | ⋮ | ⋮ |\n| 971 | 40.18 | 29 | 50760.23 | 151.96 | Enhanced intangible portal              | Lake Tracy       | 0 | Hong Kong                 | 2016-06-25 04:21:33 | 1 |\n| 972 | 45.17 | 48 | 34418.09 | 132.07 | Down-sized background groupware         | Taylormouth      | 1 | Palau                     | 2016-01-27 14:41:10 | 1 |\n| 973 | 50.48 | 50 | 20592.99 | 162.43 | Switchable real-time product            | Dianaville       | 0 | Malawi                    | 2016-05-16 18:51:59 | 1 |\n| 974 | 80.87 | 28 | 63528.80 | 203.30 | Ameliorated local workforce             | Collinsburgh     | 0 | Uruguay                   | 2016-02-27 20:20:25 | 0 |\n| 975 | 41.88 | 40 | 44217.68 | 126.11 | Streamlined exuding adapter             | Port Rachel      | 1 | Cyprus                    | 2016-02-28 23:54:44 | 1 |\n| 976 | 39.87 | 48 | 47929.83 | 139.34 | Business-focused user-facing benchmark  | South Rebecca    | 1 | Mexico                    | 2016-06-13 06:11:33 | 1 |\n| 977 | 61.84 | 45 | 46024.29 | 105.63 | Reactive bi-directional standardization | Port Joshuafort  | 1 | Niger                     | 2016-05-05 11:07:13 | 1 |\n| 978 | 54.97 | 31 | 51900.03 | 116.38 | Virtual bifurcated portal               | Robinsontown     | 1 | France                    | 2016-07-07 12:17:33 | 1 |\n| 979 | 71.40 | 30 | 72188.90 | 166.31 | Integrated 3rdgeneration monitoring     | Beckton          | 0 | Japan                     | 2016-05-24 17:07:08 | 0 |\n| 980 | 70.29 | 31 | 56974.51 | 254.65 | Balanced responsive open system         | New Frankshire   | 1 | Norfolk Island            | 2016-03-30 14:36:55 | 0 |\n| 981 | 67.26 | 57 | 25682.65 | 168.41 | Focused incremental Graphic Interface   | North Derekville | 1 | Bulgaria                  | 2016-05-27 05:54:03 | 1 |\n| 982 | 76.58 | 46 | 41884.64 | 258.26 | Secured 24hour policy                   | West Sydney      | 0 | Uzbekistan                | 2016-01-03 16:30:51 | 0 |\n| 983 | 54.37 | 38 | 72196.29 | 140.77 | Up-sized asymmetric firmware            | Lake Matthew     | 0 | Mexico                    | 2016-06-25 18:17:53 | 1 |\n| 984 | 82.79 | 32 | 54429.17 | 234.81 | Distributed fault-tolerant service-desk | Lake Zacharyfurt | 1 | Brunei Darussalam         | 2016-02-24 10:36:43 | 0 |\n| 985 | 66.47 | 31 | 58037.66 | 256.39 | Vision-oriented human-resource synergy  | Lindsaymouth     | 1 | France                    | 2016-03-03 03:13:48 | 0 |\n| 986 | 72.88 | 44 | 64011.26 | 125.12 | Customer-focused explicit challenge     | Sarahland        | 0 | Yemen                     | 2016-04-21 19:56:24 | 1 |\n| 987 | 76.44 | 28 | 59967.19 | 232.68 | Synchronized human-resource moderator   | Port Julie       | 1 | Northern Mariana Islands  | 2016-04-06 17:26:37 | 0 |\n| 988 | 63.37 | 43 | 43155.19 | 105.04 | Open-architected full-range projection  | Michaelshire     | 1 | Poland                    | 2016-03-23 12:53:23 | 1 |\n| 989 | 89.71 | 48 | 51501.38 | 204.40 | Versatile local forecast                | Sarafurt         | 1 | Bahrain                   | 2016-02-17 07:00:38 | 0 |\n| 990 | 70.96 | 31 | 55187.85 | 256.40 | Ameliorated user-facing help-desk       | South Denise     | 0 | Saint Pierre and Miquelon | 2016-06-26 07:01:47 | 0 |\n| 991 | 35.79 | 44 | 33813.08 | 165.62 | Enterprise-wide tangible model          | North Katie      | 1 | Tonga                     | 2016-04-20 13:36:42 | 1 |\n| 992 | 38.96 | 38 | 36497.22 | 140.67 | Versatile mission-critical application  | Mauricefurt      | 1 | Comoros                   | 2016-07-21 16:02:40 | 1 |\n| 993 | 69.17 | 40 | 66193.81 | 123.62 | Extended leadingedge solution           | New Patrick      | 0 | Montenegro                | 2016-03-06 11:36:06 | 1 |\n| 994 | 64.20 | 27 | 66200.96 | 227.63 | Phased zero tolerance extranet          | Edwardsmouth     | 1 | Isle of Man               | 2016-02-11 23:45:01 | 0 |\n| 995 | 43.70 | 28 | 63126.96 | 173.01 | Front-line bifurcated ability           | Nicholasland     | 0 | Mayotte                   | 2016-04-04 03:57:48 | 1 |\n| 996 | 72.97 | 30 | 71384.57 | 208.58 | Fundamental modular algorithm           | Duffystad        | 1 | Lebanon                   | 2016-02-11 21:49:00 | 1 |\n| 997 | 51.30 | 45 | 67782.17 | 134.42 | Grass-roots cohesive monitoring         | New Darlene      | 1 | Bosnia and Herzegovina    | 2016-04-22 02:07:01 | 1 |\n| 998 | 51.63 | 51 | 42415.72 | 120.37 | Expanded intangible solution            | South Jessica    | 1 | Mongolia                  | 2016-02-01 17:24:57 | 1 |\n| 999 | 55.55 | 19 | 41920.79 | 187.95 | Proactive bandwidth-monitored policy    | West Steven      | 0 | Guatemala                 | 2016-03-24 02:35:54 | 0 |\n| 1000 | 45.01 | 26 | 29875.80 | 178.35 | Virtual 5thgeneration emulation         | Ronniemouth      | 0 | Brazil                    | 2016-06-03 21:43:21 | 1 |\n\n",
            "text/html": [
              "<table>\n",
              "<caption>A data.frame: 1000 × 10</caption>\n",
              "<thead>\n",
              "\t<tr><th></th><th scope=col>Daily.Time.Spent.on.Site</th><th scope=col>Age</th><th scope=col>Area.Income</th><th scope=col>Daily.Internet.Usage</th><th scope=col>Ad.Topic.Line</th><th scope=col>City</th><th scope=col>Male</th><th scope=col>Country</th><th scope=col>Timestamp</th><th scope=col>Clicked.on.Ad</th></tr>\n",
              "\t<tr><th></th><th scope=col>&lt;dbl&gt;</th><th scope=col>&lt;int&gt;</th><th scope=col>&lt;dbl&gt;</th><th scope=col>&lt;dbl&gt;</th><th scope=col>&lt;chr&gt;</th><th scope=col>&lt;chr&gt;</th><th scope=col>&lt;int&gt;</th><th scope=col>&lt;chr&gt;</th><th scope=col>&lt;chr&gt;</th><th scope=col>&lt;int&gt;</th></tr>\n",
              "</thead>\n",
              "<tbody>\n",
              "\t<tr><th scope=row>1</th><td>68.95</td><td>35</td><td>61833.90</td><td>256.09</td><td>Cloned 5thgeneration orchestration           </td><td>Wrightburgh      </td><td>0</td><td>Tunisia                                            </td><td>2016-03-27 00:53:11</td><td>0</td></tr>\n",
              "\t<tr><th scope=row>2</th><td>80.23</td><td>31</td><td>68441.85</td><td>193.77</td><td>Monitored national standardization           </td><td>West Jodi        </td><td>1</td><td>Nauru                                              </td><td>2016-04-04 01:39:02</td><td>0</td></tr>\n",
              "\t<tr><th scope=row>3</th><td>69.47</td><td>26</td><td>59785.94</td><td>236.50</td><td>Organic bottom-line service-desk             </td><td>Davidton         </td><td>0</td><td>San Marino                                         </td><td>2016-03-13 20:35:42</td><td>0</td></tr>\n",
              "\t<tr><th scope=row>4</th><td>74.15</td><td>29</td><td>54806.18</td><td>245.89</td><td>Triple-buffered reciprocal time-frame        </td><td>West Terrifurt   </td><td>1</td><td>Italy                                              </td><td>2016-01-10 02:31:19</td><td>0</td></tr>\n",
              "\t<tr><th scope=row>5</th><td>68.37</td><td>35</td><td>73889.99</td><td>225.58</td><td>Robust logistical utilization                </td><td>South Manuel     </td><td>0</td><td>Iceland                                            </td><td>2016-06-03 03:36:18</td><td>0</td></tr>\n",
              "\t<tr><th scope=row>6</th><td>59.99</td><td>23</td><td>59761.56</td><td>226.74</td><td>Sharable client-driven software              </td><td>Jamieberg        </td><td>1</td><td>Norway                                             </td><td>2016-05-19 14:30:17</td><td>0</td></tr>\n",
              "\t<tr><th scope=row>7</th><td>88.91</td><td>33</td><td>53852.85</td><td>208.36</td><td>Enhanced dedicated support                   </td><td>Brandonstad      </td><td>0</td><td>Myanmar                                            </td><td>2016-01-28 20:59:32</td><td>0</td></tr>\n",
              "\t<tr><th scope=row>8</th><td>66.00</td><td>48</td><td>24593.33</td><td>131.76</td><td>Reactive local challenge                     </td><td>Port Jefferybury </td><td>1</td><td>Australia                                          </td><td>2016-03-07 01:40:15</td><td>1</td></tr>\n",
              "\t<tr><th scope=row>9</th><td>74.53</td><td>30</td><td>68862.00</td><td>221.51</td><td>Configurable coherent function               </td><td>West Colin       </td><td>1</td><td>Grenada                                            </td><td>2016-04-18 09:33:42</td><td>0</td></tr>\n",
              "\t<tr><th scope=row>10</th><td>69.88</td><td>20</td><td>55642.32</td><td>183.82</td><td>Mandatory homogeneous architecture           </td><td>Ramirezton       </td><td>1</td><td>Ghana                                              </td><td>2016-07-11 01:42:51</td><td>0</td></tr>\n",
              "\t<tr><th scope=row>11</th><td>47.64</td><td>49</td><td>45632.51</td><td>122.02</td><td>Centralized neutral neural-net               </td><td>West Brandonton  </td><td>0</td><td>Qatar                                              </td><td>2016-03-16 20:19:01</td><td>1</td></tr>\n",
              "\t<tr><th scope=row>12</th><td>83.07</td><td>37</td><td>62491.01</td><td>230.87</td><td>Team-oriented grid-enabled Local Area Network</td><td>East Theresashire</td><td>1</td><td>Burundi                                            </td><td>2016-05-08 08:10:10</td><td>0</td></tr>\n",
              "\t<tr><th scope=row>13</th><td>69.57</td><td>48</td><td>51636.92</td><td>113.12</td><td>Centralized content-based focus group        </td><td>West Katiefurt   </td><td>1</td><td>Egypt                                              </td><td>2016-06-03 01:14:41</td><td>1</td></tr>\n",
              "\t<tr><th scope=row>14</th><td>79.52</td><td>24</td><td>51739.63</td><td>214.23</td><td>Synergistic fresh-thinking array             </td><td>North Tara       </td><td>0</td><td>Bosnia and Herzegovina                             </td><td>2016-04-20 21:49:22</td><td>0</td></tr>\n",
              "\t<tr><th scope=row>15</th><td>42.95</td><td>33</td><td>30976.00</td><td>143.56</td><td>Grass-roots coherent extranet                </td><td>West William     </td><td>0</td><td>Barbados                                           </td><td>2016-03-24 09:31:49</td><td>1</td></tr>\n",
              "\t<tr><th scope=row>16</th><td>63.45</td><td>23</td><td>52182.23</td><td>140.64</td><td>Persistent demand-driven interface           </td><td>New Travistown   </td><td>1</td><td>Spain                                              </td><td>2016-03-09 03:41:30</td><td>1</td></tr>\n",
              "\t<tr><th scope=row>17</th><td>55.39</td><td>37</td><td>23936.86</td><td>129.41</td><td>Customizable multi-tasking website           </td><td>West Dylanberg   </td><td>0</td><td>Palestinian Territory                              </td><td>2016-01-30 19:20:41</td><td>1</td></tr>\n",
              "\t<tr><th scope=row>18</th><td>82.03</td><td>41</td><td>71511.08</td><td>187.53</td><td>Intuitive dynamic attitude                   </td><td>Pruittmouth      </td><td>0</td><td>Afghanistan                                        </td><td>2016-05-02 07:00:58</td><td>0</td></tr>\n",
              "\t<tr><th scope=row>19</th><td>54.70</td><td>36</td><td>31087.54</td><td>118.39</td><td>Grass-roots solution-oriented conglomeration </td><td>Jessicastad      </td><td>1</td><td>British Indian Ocean Territory (Chagos Archipelago)</td><td>2016-02-13 07:53:55</td><td>1</td></tr>\n",
              "\t<tr><th scope=row>20</th><td>74.58</td><td>40</td><td>23821.72</td><td>135.51</td><td>Advanced 24/7 productivity                   </td><td>Millertown       </td><td>1</td><td>Russian Federation                                 </td><td>2016-02-27 04:43:07</td><td>1</td></tr>\n",
              "\t<tr><th scope=row>21</th><td>77.22</td><td>30</td><td>64802.33</td><td>224.44</td><td>Object-based reciprocal knowledgebase        </td><td>Port Jacqueline  </td><td>1</td><td>Cameroon                                           </td><td>2016-01-05 07:52:48</td><td>0</td></tr>\n",
              "\t<tr><th scope=row>22</th><td>84.59</td><td>35</td><td>60015.57</td><td>226.54</td><td>Streamlined non-volatile analyzer            </td><td>Lake Nicole      </td><td>1</td><td>Cameroon                                           </td><td>2016-03-18 13:22:35</td><td>0</td></tr>\n",
              "\t<tr><th scope=row>23</th><td>41.49</td><td>52</td><td>32635.70</td><td>164.83</td><td>Mandatory disintermediate utilization        </td><td>South John       </td><td>0</td><td>Burundi                                            </td><td>2016-05-20 08:49:33</td><td>1</td></tr>\n",
              "\t<tr><th scope=row>24</th><td>87.29</td><td>36</td><td>61628.72</td><td>209.93</td><td>Future-proofed methodical protocol           </td><td>Pamelamouth      </td><td>1</td><td>Korea                                              </td><td>2016-03-23 09:43:43</td><td>0</td></tr>\n",
              "\t<tr><th scope=row>25</th><td>41.39</td><td>41</td><td>68962.32</td><td>167.22</td><td>Exclusive neutral parallelism                </td><td>Harperborough    </td><td>0</td><td>Tokelau                                            </td><td>2016-06-13 17:27:09</td><td>1</td></tr>\n",
              "\t<tr><th scope=row>26</th><td>78.74</td><td>28</td><td>64828.00</td><td>204.79</td><td>Public-key foreground groupware              </td><td>Port Danielleberg</td><td>1</td><td>Monaco                                             </td><td>2016-05-27 15:25:52</td><td>0</td></tr>\n",
              "\t<tr><th scope=row>27</th><td>48.53</td><td>28</td><td>38067.08</td><td>134.14</td><td>Ameliorated client-driven forecast           </td><td>West Jeremyside  </td><td>1</td><td>Tuvalu                                             </td><td>2016-02-08 10:46:14</td><td>1</td></tr>\n",
              "\t<tr><th scope=row>28</th><td>51.95</td><td>52</td><td>58295.82</td><td>129.23</td><td>Monitored systematic hierarchy               </td><td>South Cathyfurt  </td><td>0</td><td>Greece                                             </td><td>2016-07-19 08:32:10</td><td>1</td></tr>\n",
              "\t<tr><th scope=row>29</th><td>70.20</td><td>34</td><td>32708.94</td><td>119.20</td><td>Open-architected impactful productivity      </td><td>Palmerside       </td><td>0</td><td>British Virgin Islands                             </td><td>2016-04-14 05:08:35</td><td>1</td></tr>\n",
              "\t<tr><th scope=row>30</th><td>76.02</td><td>22</td><td>46179.97</td><td>209.82</td><td>Business-focused value-added definition      </td><td>West Guybury     </td><td>0</td><td>Bouvet Island (Bouvetoya)                          </td><td>2016-01-27 12:38:16</td><td>0</td></tr>\n",
              "\t<tr><th scope=row>⋮</th><td>⋮</td><td>⋮</td><td>⋮</td><td>⋮</td><td>⋮</td><td>⋮</td><td>⋮</td><td>⋮</td><td>⋮</td><td>⋮</td></tr>\n",
              "\t<tr><th scope=row>971</th><td>40.18</td><td>29</td><td>50760.23</td><td>151.96</td><td>Enhanced intangible portal             </td><td>Lake Tracy      </td><td>0</td><td>Hong Kong                </td><td>2016-06-25 04:21:33</td><td>1</td></tr>\n",
              "\t<tr><th scope=row>972</th><td>45.17</td><td>48</td><td>34418.09</td><td>132.07</td><td>Down-sized background groupware        </td><td>Taylormouth     </td><td>1</td><td>Palau                    </td><td>2016-01-27 14:41:10</td><td>1</td></tr>\n",
              "\t<tr><th scope=row>973</th><td>50.48</td><td>50</td><td>20592.99</td><td>162.43</td><td>Switchable real-time product           </td><td>Dianaville      </td><td>0</td><td>Malawi                   </td><td>2016-05-16 18:51:59</td><td>1</td></tr>\n",
              "\t<tr><th scope=row>974</th><td>80.87</td><td>28</td><td>63528.80</td><td>203.30</td><td>Ameliorated local workforce            </td><td>Collinsburgh    </td><td>0</td><td>Uruguay                  </td><td>2016-02-27 20:20:25</td><td>0</td></tr>\n",
              "\t<tr><th scope=row>975</th><td>41.88</td><td>40</td><td>44217.68</td><td>126.11</td><td>Streamlined exuding adapter            </td><td>Port Rachel     </td><td>1</td><td>Cyprus                   </td><td>2016-02-28 23:54:44</td><td>1</td></tr>\n",
              "\t<tr><th scope=row>976</th><td>39.87</td><td>48</td><td>47929.83</td><td>139.34</td><td>Business-focused user-facing benchmark </td><td>South Rebecca   </td><td>1</td><td>Mexico                   </td><td>2016-06-13 06:11:33</td><td>1</td></tr>\n",
              "\t<tr><th scope=row>977</th><td>61.84</td><td>45</td><td>46024.29</td><td>105.63</td><td>Reactive bi-directional standardization</td><td>Port Joshuafort </td><td>1</td><td>Niger                    </td><td>2016-05-05 11:07:13</td><td>1</td></tr>\n",
              "\t<tr><th scope=row>978</th><td>54.97</td><td>31</td><td>51900.03</td><td>116.38</td><td>Virtual bifurcated portal              </td><td>Robinsontown    </td><td>1</td><td>France                   </td><td>2016-07-07 12:17:33</td><td>1</td></tr>\n",
              "\t<tr><th scope=row>979</th><td>71.40</td><td>30</td><td>72188.90</td><td>166.31</td><td>Integrated 3rdgeneration monitoring    </td><td>Beckton         </td><td>0</td><td>Japan                    </td><td>2016-05-24 17:07:08</td><td>0</td></tr>\n",
              "\t<tr><th scope=row>980</th><td>70.29</td><td>31</td><td>56974.51</td><td>254.65</td><td>Balanced responsive open system        </td><td>New Frankshire  </td><td>1</td><td>Norfolk Island           </td><td>2016-03-30 14:36:55</td><td>0</td></tr>\n",
              "\t<tr><th scope=row>981</th><td>67.26</td><td>57</td><td>25682.65</td><td>168.41</td><td>Focused incremental Graphic Interface  </td><td>North Derekville</td><td>1</td><td>Bulgaria                 </td><td>2016-05-27 05:54:03</td><td>1</td></tr>\n",
              "\t<tr><th scope=row>982</th><td>76.58</td><td>46</td><td>41884.64</td><td>258.26</td><td>Secured 24hour policy                  </td><td>West Sydney     </td><td>0</td><td>Uzbekistan               </td><td>2016-01-03 16:30:51</td><td>0</td></tr>\n",
              "\t<tr><th scope=row>983</th><td>54.37</td><td>38</td><td>72196.29</td><td>140.77</td><td>Up-sized asymmetric firmware           </td><td>Lake Matthew    </td><td>0</td><td>Mexico                   </td><td>2016-06-25 18:17:53</td><td>1</td></tr>\n",
              "\t<tr><th scope=row>984</th><td>82.79</td><td>32</td><td>54429.17</td><td>234.81</td><td>Distributed fault-tolerant service-desk</td><td>Lake Zacharyfurt</td><td>1</td><td>Brunei Darussalam        </td><td>2016-02-24 10:36:43</td><td>0</td></tr>\n",
              "\t<tr><th scope=row>985</th><td>66.47</td><td>31</td><td>58037.66</td><td>256.39</td><td>Vision-oriented human-resource synergy </td><td>Lindsaymouth    </td><td>1</td><td>France                   </td><td>2016-03-03 03:13:48</td><td>0</td></tr>\n",
              "\t<tr><th scope=row>986</th><td>72.88</td><td>44</td><td>64011.26</td><td>125.12</td><td>Customer-focused explicit challenge    </td><td>Sarahland       </td><td>0</td><td>Yemen                    </td><td>2016-04-21 19:56:24</td><td>1</td></tr>\n",
              "\t<tr><th scope=row>987</th><td>76.44</td><td>28</td><td>59967.19</td><td>232.68</td><td>Synchronized human-resource moderator  </td><td>Port Julie      </td><td>1</td><td>Northern Mariana Islands </td><td>2016-04-06 17:26:37</td><td>0</td></tr>\n",
              "\t<tr><th scope=row>988</th><td>63.37</td><td>43</td><td>43155.19</td><td>105.04</td><td>Open-architected full-range projection </td><td>Michaelshire    </td><td>1</td><td>Poland                   </td><td>2016-03-23 12:53:23</td><td>1</td></tr>\n",
              "\t<tr><th scope=row>989</th><td>89.71</td><td>48</td><td>51501.38</td><td>204.40</td><td>Versatile local forecast               </td><td>Sarafurt        </td><td>1</td><td>Bahrain                  </td><td>2016-02-17 07:00:38</td><td>0</td></tr>\n",
              "\t<tr><th scope=row>990</th><td>70.96</td><td>31</td><td>55187.85</td><td>256.40</td><td>Ameliorated user-facing help-desk      </td><td>South Denise    </td><td>0</td><td>Saint Pierre and Miquelon</td><td>2016-06-26 07:01:47</td><td>0</td></tr>\n",
              "\t<tr><th scope=row>991</th><td>35.79</td><td>44</td><td>33813.08</td><td>165.62</td><td>Enterprise-wide tangible model         </td><td>North Katie     </td><td>1</td><td>Tonga                    </td><td>2016-04-20 13:36:42</td><td>1</td></tr>\n",
              "\t<tr><th scope=row>992</th><td>38.96</td><td>38</td><td>36497.22</td><td>140.67</td><td>Versatile mission-critical application </td><td>Mauricefurt     </td><td>1</td><td>Comoros                  </td><td>2016-07-21 16:02:40</td><td>1</td></tr>\n",
              "\t<tr><th scope=row>993</th><td>69.17</td><td>40</td><td>66193.81</td><td>123.62</td><td>Extended leadingedge solution          </td><td>New Patrick     </td><td>0</td><td>Montenegro               </td><td>2016-03-06 11:36:06</td><td>1</td></tr>\n",
              "\t<tr><th scope=row>994</th><td>64.20</td><td>27</td><td>66200.96</td><td>227.63</td><td>Phased zero tolerance extranet         </td><td>Edwardsmouth    </td><td>1</td><td>Isle of Man              </td><td>2016-02-11 23:45:01</td><td>0</td></tr>\n",
              "\t<tr><th scope=row>995</th><td>43.70</td><td>28</td><td>63126.96</td><td>173.01</td><td>Front-line bifurcated ability          </td><td>Nicholasland    </td><td>0</td><td>Mayotte                  </td><td>2016-04-04 03:57:48</td><td>1</td></tr>\n",
              "\t<tr><th scope=row>996</th><td>72.97</td><td>30</td><td>71384.57</td><td>208.58</td><td>Fundamental modular algorithm          </td><td>Duffystad       </td><td>1</td><td>Lebanon                  </td><td>2016-02-11 21:49:00</td><td>1</td></tr>\n",
              "\t<tr><th scope=row>997</th><td>51.30</td><td>45</td><td>67782.17</td><td>134.42</td><td>Grass-roots cohesive monitoring        </td><td>New Darlene     </td><td>1</td><td>Bosnia and Herzegovina   </td><td>2016-04-22 02:07:01</td><td>1</td></tr>\n",
              "\t<tr><th scope=row>998</th><td>51.63</td><td>51</td><td>42415.72</td><td>120.37</td><td>Expanded intangible solution           </td><td>South Jessica   </td><td>1</td><td>Mongolia                 </td><td>2016-02-01 17:24:57</td><td>1</td></tr>\n",
              "\t<tr><th scope=row>999</th><td>55.55</td><td>19</td><td>41920.79</td><td>187.95</td><td>Proactive bandwidth-monitored policy   </td><td>West Steven     </td><td>0</td><td>Guatemala                </td><td>2016-03-24 02:35:54</td><td>0</td></tr>\n",
              "\t<tr><th scope=row>1000</th><td>45.01</td><td>26</td><td>29875.80</td><td>178.35</td><td>Virtual 5thgeneration emulation        </td><td>Ronniemouth     </td><td>0</td><td>Brazil                   </td><td>2016-06-03 21:43:21</td><td>1</td></tr>\n",
              "</tbody>\n",
              "</table>\n"
            ]
          },
          "metadata": {
            "tags": []
          }
        }
      ]
    },
    {
      "cell_type": "code",
      "metadata": {
        "id": "w_nsZrUfpaGz",
        "outputId": "27d367c8-3a4c-4a84-ca05-20e4b19d25b3",
        "colab": {
          "base_uri": "https://localhost:8080/",
          "height": 437
        }
      },
      "source": [
        "# checking for outliers values in the column age\n",
        "boxplot(advertising$Age)\n",
        "\n",
        "# there was no outlier in the column age"
      ],
      "execution_count": 7,
      "outputs": [
        {
          "output_type": "display_data",
          "data": {
            "image/png": "[encoded data removed]",
            "text/plain": [
              "plot without title"
            ]
          },
          "metadata": {
            "tags": [],
            "image/png": {
              "width": 420,
              "height": 420
            }
          }
        }
      ]
    },
    {
      "cell_type": "markdown",
      "metadata": {
        "id": "s-cVa_NM3YTb"
      },
      "source": [
        "# Univariate Graphical Exploratory Data Analysis\n",
        "\n",
        "## 1. Measures of Central Tendency\n",
        "\n"
      ]
    },
    {
      "cell_type": "code",
      "metadata": {
        "id": "70RGc8ZT8b9T",
        "outputId": "5161a184-f717-47da-806c-2fe49a84b7d8",
        "colab": {
          "base_uri": "https://localhost:8080/",
          "height": 390
        }
      },
      "source": [
        "\n",
        "# getting the summaries(min, max, 1st and 3rd quantiles, median, and mean)\n",
        "summary(advertising)"
      ],
      "execution_count": 8,
      "outputs": [
        {
          "output_type": "display_data",
          "data": {
            "text/plain": [
              " Daily.Time.Spent.on.Site      Age         Area.Income    Daily.Internet.Usage\n",
              " Min.   :32.60            Min.   :19.00   Min.   :13996   Min.   :104.8       \n",
              " 1st Qu.:51.36            1st Qu.:29.00   1st Qu.:47032   1st Qu.:138.8       \n",
              " Median :68.22            Median :35.00   Median :57012   Median :183.1       \n",
              " Mean   :65.00            Mean   :36.01   Mean   :55000   Mean   :180.0       \n",
              " 3rd Qu.:78.55            3rd Qu.:42.00   3rd Qu.:65471   3rd Qu.:218.8       \n",
              " Max.   :91.43            Max.   :61.00   Max.   :79485   Max.   :270.0       \n",
              " Ad.Topic.Line          City                Male         Country         \n",
              " Length:1000        Length:1000        Min.   :0.000   Length:1000       \n",
              " Class :character   Class :character   1st Qu.:0.000   Class :character  \n",
              " Mode  :character   Mode  :character   Median :0.000   Mode  :character  \n",
              "                                       Mean   :0.481                     \n",
              "                                       3rd Qu.:1.000                     \n",
              "                                       Max.   :1.000                     \n",
              "  Timestamp         Clicked.on.Ad\n",
              " Length:1000        Min.   :0.0  \n",
              " Class :character   1st Qu.:0.0  \n",
              " Mode  :character   Median :0.5  \n",
              "                    Mean   :0.5  \n",
              "                    3rd Qu.:1.0  \n",
              "                    Max.   :1.0  "
            ]
          },
          "metadata": {
            "tags": []
          }
        }
      ]
    },
    {
      "cell_type": "code",
      "metadata": {
        "id": "b3-5ayGE8lMd"
      },
      "source": [
        "# getting the mode\n",
        "# creating a function that checks for the mode\n",
        "getmode <- function(v) {\n",
        "   uniqv <- unique(v)\n",
        "   uniqv[which.max(tabulate(match(v, uniqv)))]}\n",
        "   "
      ],
      "execution_count": 9,
      "outputs": []
    },
    {
      "cell_type": "code",
      "metadata": {
        "id": "xMyBqMqV8rS-",
        "outputId": "cd7bdd45-88e1-4af5-8772-fd4222982c85",
        "colab": {
          "base_uri": "https://localhost:8080/",
          "height": 34
        }
      },
      "source": [
        "# applying the function to the columns\n",
        "# age to get the mode\n",
        "advertising.Age.mode <- getmode(advertising$Age)\n",
        "advertising.Age.mode"
      ],
      "execution_count": 10,
      "outputs": [
        {
          "output_type": "display_data",
          "data": {
            "text/plain": [
              "[1] 31"
            ],
            "text/latex": "31",
            "text/markdown": "31",
            "text/html": [
              "31"
            ]
          },
          "metadata": {
            "tags": []
          }
        }
      ]
    },
    {
      "cell_type": "code",
      "metadata": {
        "id": "Lm7a9qYW86KG",
        "outputId": "3321832e-389f-43d3-b196-31c52541391d",
        "colab": {
          "base_uri": "https://localhost:8080/",
          "height": 34
        }
      },
      "source": [
        "# mode for Daily.Time.Spent.on.Site\n",
        "advertising.time_spent.mode <- getmode(advertising$'Daily.Time.Spent.on.Site')\n",
        "advertising.time_spent.mode"
      ],
      "execution_count": 11,
      "outputs": [
        {
          "output_type": "display_data",
          "data": {
            "text/plain": [
              "[1] 62.26"
            ],
            "text/latex": "62.26",
            "text/markdown": "62.26",
            "text/html": [
              "62.26"
            ]
          },
          "metadata": {
            "tags": []
          }
        }
      ]
    },
    {
      "cell_type": "code",
      "metadata": {
        "id": "O8U785il9PlY",
        "outputId": "1826c2c9-cca2-4e8a-de12-7b2cef24b38e",
        "colab": {
          "base_uri": "https://localhost:8080/",
          "height": 34
        }
      },
      "source": [
        "# area of income\n",
        "advertising.area_income.mode <- getmode(advertising$'Area.Income')\n",
        "advertising.area_income.mode"
      ],
      "execution_count": 12,
      "outputs": [
        {
          "output_type": "display_data",
          "data": {
            "text/plain": [
              "[1] 61833.9"
            ],
            "text/latex": "61833.9",
            "text/markdown": "61833.9",
            "text/html": [
              "61833.9"
            ]
          },
          "metadata": {
            "tags": []
          }
        }
      ]
    },
    {
      "cell_type": "code",
      "metadata": {
        "id": "H5frY7i0-BFN",
        "outputId": "198731ca-4414-4d0f-aaa2-931afecb4ab9",
        "colab": {
          "base_uri": "https://localhost:8080/",
          "height": 34
        }
      },
      "source": [
        "# getting the mode for column country\n",
        "advertising.Country.mode <- getmode(advertising$Country)\n",
        "advertising.Country.mode"
      ],
      "execution_count": 13,
      "outputs": [
        {
          "output_type": "display_data",
          "data": {
            "text/plain": [
              "[1] \"Czech Republic\""
            ],
            "text/latex": "'Czech Republic'",
            "text/markdown": "'Czech Republic'",
            "text/html": [
              "'Czech Republic'"
            ]
          },
          "metadata": {
            "tags": []
          }
        }
      ]
    },
    {
      "cell_type": "code",
      "metadata": {
        "id": "1eT8CmK0-Sak",
        "outputId": "3b244e97-bb77-4a4a-bbd3-105810f1c84d",
        "colab": {
          "base_uri": "https://localhost:8080/",
          "height": 34
        }
      },
      "source": [
        "# mode for column city\n",
        "advertising.City.mode <- getmode(advertising$City)\n",
        "advertising.City.mode"
      ],
      "execution_count": 14,
      "outputs": [
        {
          "output_type": "display_data",
          "data": {
            "text/plain": [
              "[1] \"Lisamouth\""
            ],
            "text/latex": "'Lisamouth'",
            "text/markdown": "'Lisamouth'",
            "text/html": [
              "'Lisamouth'"
            ]
          },
          "metadata": {
            "tags": []
          }
        }
      ]
    },
    {
      "cell_type": "code",
      "metadata": {
        "id": "C8Yaih5aAGTj",
        "outputId": "b62742cc-dcc0-4a3a-83e7-982d2f8fa4aa",
        "colab": {
          "base_uri": "https://localhost:8080/",
          "height": 34
        }
      },
      "source": [
        "# internet usage\n",
        "advertising.internet_usage.mode <- getmode(advertising$'Daily.Internet.Usage')\n",
        "advertising.internet_usage.mode"
      ],
      "execution_count": 15,
      "outputs": [
        {
          "output_type": "display_data",
          "data": {
            "text/plain": [
              "[1] 167.22"
            ],
            "text/latex": "167.22",
            "text/markdown": "167.22",
            "text/html": [
              "167.22"
            ]
          },
          "metadata": {
            "tags": []
          }
        }
      ]
    },
    {
      "cell_type": "code",
      "metadata": {
        "id": "KHaWCmilA3p2",
        "outputId": "415d490f-9a5e-45bb-fa79-f0b340b0e021",
        "colab": {
          "base_uri": "https://localhost:8080/",
          "height": 34
        }
      },
      "source": [
        "# ad topic line\n",
        "advertising.ad_topic_line.mode <- getmode(advertising$'Ad.Topic.Line')\n",
        "advertising.ad_topic_line.mode"
      ],
      "execution_count": 16,
      "outputs": [
        {
          "output_type": "display_data",
          "data": {
            "text/plain": [
              "[1] \"Cloned 5thgeneration orchestration\""
            ],
            "text/latex": "'Cloned 5thgeneration orchestration'",
            "text/markdown": "'Cloned 5thgeneration orchestration'",
            "text/html": [
              "'Cloned 5thgeneration orchestration'"
            ]
          },
          "metadata": {
            "tags": []
          }
        }
      ]
    },
    {
      "cell_type": "code",
      "metadata": {
        "id": "az1NNVgoqbAJ",
        "outputId": "e685cd32-3bd2-41c3-aabb-49bd374a39f2",
        "colab": {
          "base_uri": "https://localhost:8080/",
          "height": 386
        }
      },
      "source": [
        "# getting the range\n",
        "lapply(advertising, FUN=range)\n",
        "\n",
        "\n",
        "# the range for the columns time spent, age, area income, and internet usage were 32.60 91.43\n",
        "# 19 61, 13996.5 79484.8, and 104.78 269.96 respectively"
      ],
      "execution_count": 17,
      "outputs": [
        {
          "output_type": "display_data",
          "data": {
            "text/plain": [
              "$Daily.Time.Spent.on.Site\n",
              "[1] 32.60 91.43\n",
              "\n",
              "$Age\n",
              "[1] 19 61\n",
              "\n",
              "$Area.Income\n",
              "[1] 13996.5 79484.8\n",
              "\n",
              "$Daily.Internet.Usage\n",
              "[1] 104.78 269.96\n",
              "\n",
              "$Ad.Topic.Line\n",
              "[1] \"Adaptive 24hour Graphic Interface\" \"Visionary reciprocal circuit\"     \n",
              "\n",
              "$City\n",
              "[1] \"Adamsbury\"  \"Zacharyton\"\n",
              "\n",
              "$Male\n",
              "[1] 0 1\n",
              "\n",
              "$Country\n",
              "[1] \"Afghanistan\" \"Zimbabwe\"   \n",
              "\n",
              "$Timestamp\n",
              "[1] \"2016-01-01 02:52:10\" \"2016-07-24 00:22:16\"\n",
              "\n",
              "$Clicked.on.Ad\n",
              "[1] 0 1\n"
            ],
            "text/latex": "\\begin{description}\n\\item[\\$Daily.Time.Spent.on.Site] \\begin{enumerate*}\n\\item 32.6\n\\item 91.43\n\\end{enumerate*}\n\n\\item[\\$Age] \\begin{enumerate*}\n\\item 19\n\\item 61\n\\end{enumerate*}\n\n\\item[\\$Area.Income] \\begin{enumerate*}\n\\item 13996.5\n\\item 79484.8\n\\end{enumerate*}\n\n\\item[\\$Daily.Internet.Usage] \\begin{enumerate*}\n\\item 104.78\n\\item 269.96\n\\end{enumerate*}\n\n\\item[\\$Ad.Topic.Line] \\begin{enumerate*}\n\\item 'Adaptive 24hour Graphic Interface'\n\\item 'Visionary reciprocal circuit'\n\\end{enumerate*}\n\n\\item[\\$City] \\begin{enumerate*}\n\\item 'Adamsbury'\n\\item 'Zacharyton'\n\\end{enumerate*}\n\n\\item[\\$Male] \\begin{enumerate*}\n\\item 0\n\\item 1\n\\end{enumerate*}\n\n\\item[\\$Country] \\begin{enumerate*}\n\\item 'Afghanistan'\n\\item 'Zimbabwe'\n\\end{enumerate*}\n\n\\item[\\$Timestamp] \\begin{enumerate*}\n\\item '2016-01-01 02:52:10'\n\\item '2016-07-24 00:22:16'\n\\end{enumerate*}\n\n\\item[\\$Clicked.on.Ad] \\begin{enumerate*}\n\\item 0\n\\item 1\n\\end{enumerate*}\n\n\\end{description}\n",
            "text/markdown": "$Daily.Time.Spent.on.Site\n:   1. 32.6\n2. 91.43\n\n\n\n$Age\n:   1. 19\n2. 61\n\n\n\n$Area.Income\n:   1. 13996.5\n2. 79484.8\n\n\n\n$Daily.Internet.Usage\n:   1. 104.78\n2. 269.96\n\n\n\n$Ad.Topic.Line\n:   1. 'Adaptive 24hour Graphic Interface'\n2. 'Visionary reciprocal circuit'\n\n\n\n$City\n:   1. 'Adamsbury'\n2. 'Zacharyton'\n\n\n\n$Male\n:   1. 0\n2. 1\n\n\n\n$Country\n:   1. 'Afghanistan'\n2. 'Zimbabwe'\n\n\n\n$Timestamp\n:   1. '2016-01-01 02:52:10'\n2. '2016-07-24 00:22:16'\n\n\n\n$Clicked.on.Ad\n:   1. 0\n2. 1\n\n\n\n\n\n",
            "text/html": [
              "<dl>\n",
              "\t<dt>$Daily.Time.Spent.on.Site</dt>\n",
              "\t\t<dd><style>\n",
              ".list-inline {list-style: none; margin:0; padding: 0}\n",
              ".list-inline>li {display: inline-block}\n",
              ".list-inline>li:not(:last-child)::after {content: \"\\00b7\"; padding: 0 .5ex}\n",
              "</style>\n",
              "<ol class=list-inline><li>32.6</li><li>91.43</li></ol>\n",
              "</dd>\n",
              "\t<dt>$Age</dt>\n",
              "\t\t<dd><style>\n",
              ".list-inline {list-style: none; margin:0; padding: 0}\n",
              ".list-inline>li {display: inline-block}\n",
              ".list-inline>li:not(:last-child)::after {content: \"\\00b7\"; padding: 0 .5ex}\n",
              "</style>\n",
              "<ol class=list-inline><li>19</li><li>61</li></ol>\n",
              "</dd>\n",
              "\t<dt>$Area.Income</dt>\n",
              "\t\t<dd><style>\n",
              ".list-inline {list-style: none; margin:0; padding: 0}\n",
              ".list-inline>li {display: inline-block}\n",
              ".list-inline>li:not(:last-child)::after {content: \"\\00b7\"; padding: 0 .5ex}\n",
              "</style>\n",
              "<ol class=list-inline><li>13996.5</li><li>79484.8</li></ol>\n",
              "</dd>\n",
              "\t<dt>$Daily.Internet.Usage</dt>\n",
              "\t\t<dd><style>\n",
              ".list-inline {list-style: none; margin:0; padding: 0}\n",
              ".list-inline>li {display: inline-block}\n",
              ".list-inline>li:not(:last-child)::after {content: \"\\00b7\"; padding: 0 .5ex}\n",
              "</style>\n",
              "<ol class=list-inline><li>104.78</li><li>269.96</li></ol>\n",
              "</dd>\n",
              "\t<dt>$Ad.Topic.Line</dt>\n",
              "\t\t<dd><style>\n",
              ".list-inline {list-style: none; margin:0; padding: 0}\n",
              ".list-inline>li {display: inline-block}\n",
              ".list-inline>li:not(:last-child)::after {content: \"\\00b7\"; padding: 0 .5ex}\n",
              "</style>\n",
              "<ol class=list-inline><li>'Adaptive 24hour Graphic Interface'</li><li>'Visionary reciprocal circuit'</li></ol>\n",
              "</dd>\n",
              "\t<dt>$City</dt>\n",
              "\t\t<dd><style>\n",
              ".list-inline {list-style: none; margin:0; padding: 0}\n",
              ".list-inline>li {display: inline-block}\n",
              ".list-inline>li:not(:last-child)::after {content: \"\\00b7\"; padding: 0 .5ex}\n",
              "</style>\n",
              "<ol class=list-inline><li>'Adamsbury'</li><li>'Zacharyton'</li></ol>\n",
              "</dd>\n",
              "\t<dt>$Male</dt>\n",
              "\t\t<dd><style>\n",
              ".list-inline {list-style: none; margin:0; padding: 0}\n",
              ".list-inline>li {display: inline-block}\n",
              ".list-inline>li:not(:last-child)::after {content: \"\\00b7\"; padding: 0 .5ex}\n",
              "</style>\n",
              "<ol class=list-inline><li>0</li><li>1</li></ol>\n",
              "</dd>\n",
              "\t<dt>$Country</dt>\n",
              "\t\t<dd><style>\n",
              ".list-inline {list-style: none; margin:0; padding: 0}\n",
              ".list-inline>li {display: inline-block}\n",
              ".list-inline>li:not(:last-child)::after {content: \"\\00b7\"; padding: 0 .5ex}\n",
              "</style>\n",
              "<ol class=list-inline><li>'Afghanistan'</li><li>'Zimbabwe'</li></ol>\n",
              "</dd>\n",
              "\t<dt>$Timestamp</dt>\n",
              "\t\t<dd><style>\n",
              ".list-inline {list-style: none; margin:0; padding: 0}\n",
              ".list-inline>li {display: inline-block}\n",
              ".list-inline>li:not(:last-child)::after {content: \"\\00b7\"; padding: 0 .5ex}\n",
              "</style>\n",
              "<ol class=list-inline><li>'2016-01-01 02:52:10'</li><li>'2016-07-24 00:22:16'</li></ol>\n",
              "</dd>\n",
              "\t<dt>$Clicked.on.Ad</dt>\n",
              "\t\t<dd><style>\n",
              ".list-inline {list-style: none; margin:0; padding: 0}\n",
              ".list-inline>li {display: inline-block}\n",
              ".list-inline>li:not(:last-child)::after {content: \"\\00b7\"; padding: 0 .5ex}\n",
              "</style>\n",
              "<ol class=list-inline><li>0</li><li>1</li></ol>\n",
              "</dd>\n",
              "</dl>\n"
            ]
          },
          "metadata": {
            "tags": []
          }
        }
      ]
    },
    {
      "cell_type": "code",
      "metadata": {
        "id": "oqMYjjx3qwEf",
        "outputId": "3694fffa-9dde-430f-851d-d6a89b7d0b75",
        "colab": {
          "base_uri": "https://localhost:8080/",
          "height": 528
        }
      },
      "source": [
        "# getting the standard deviation\n",
        "lapply(advertising,FUN=sd)\n",
        "\n",
        "# the time spent, age, area_income, and internet usage had a standard deviation,  15.85361, 8.785562, 13414.63, and 43.90234 respectively\n"
      ],
      "execution_count": 18,
      "outputs": [
        {
          "output_type": "stream",
          "text": [
            "Warning message in var(if (is.vector(x) || is.factor(x)) x else as.double(x), na.rm = na.rm):\n",
            "“NAs introduced by coercion”\n",
            "Warning message in var(if (is.vector(x) || is.factor(x)) x else as.double(x), na.rm = na.rm):\n",
            "“NAs introduced by coercion”\n",
            "Warning message in var(if (is.vector(x) || is.factor(x)) x else as.double(x), na.rm = na.rm):\n",
            "“NAs introduced by coercion”\n",
            "Warning message in var(if (is.vector(x) || is.factor(x)) x else as.double(x), na.rm = na.rm):\n",
            "“NAs introduced by coercion”\n"
          ],
          "name": "stderr"
        },
        {
          "output_type": "display_data",
          "data": {
            "text/plain": [
              "$Daily.Time.Spent.on.Site\n",
              "[1] 15.85361\n",
              "\n",
              "$Age\n",
              "[1] 8.785562\n",
              "\n",
              "$Area.Income\n",
              "[1] 13414.63\n",
              "\n",
              "$Daily.Internet.Usage\n",
              "[1] 43.90234\n",
              "\n",
              "$Ad.Topic.Line\n",
              "[1] NA\n",
              "\n",
              "$City\n",
              "[1] NA\n",
              "\n",
              "$Male\n",
              "[1] 0.4998889\n",
              "\n",
              "$Country\n",
              "[1] NA\n",
              "\n",
              "$Timestamp\n",
              "[1] NA\n",
              "\n",
              "$Clicked.on.Ad\n",
              "[1] 0.5002502\n"
            ],
            "text/latex": "\\begin{description}\n\\item[\\$Daily.Time.Spent.on.Site] 15.8536145675002\n\\item[\\$Age] 8.78556231012592\n\\item[\\$Area.Income] 13414.6340222824\n\\item[\\$Daily.Internet.Usage] 43.9023393019801\n\\item[\\$Ad.Topic.Line] <NA>\n\\item[\\$City] <NA>\n\\item[\\$Male] 0.499888876540466\n\\item[\\$Country] <NA>\n\\item[\\$Timestamp] <NA>\n\\item[\\$Clicked.on.Ad] 0.500250187656387\n\\end{description}\n",
            "text/markdown": "$Daily.Time.Spent.on.Site\n:   15.8536145675002\n$Age\n:   8.78556231012592\n$Area.Income\n:   13414.6340222824\n$Daily.Internet.Usage\n:   43.9023393019801\n$Ad.Topic.Line\n:   &lt;NA&gt;\n$City\n:   &lt;NA&gt;\n$Male\n:   0.499888876540466\n$Country\n:   &lt;NA&gt;\n$Timestamp\n:   &lt;NA&gt;\n$Clicked.on.Ad\n:   0.500250187656387\n\n\n",
            "text/html": [
              "<dl>\n",
              "\t<dt>$Daily.Time.Spent.on.Site</dt>\n",
              "\t\t<dd>15.8536145675002</dd>\n",
              "\t<dt>$Age</dt>\n",
              "\t\t<dd>8.78556231012592</dd>\n",
              "\t<dt>$Area.Income</dt>\n",
              "\t\t<dd>13414.6340222824</dd>\n",
              "\t<dt>$Daily.Internet.Usage</dt>\n",
              "\t\t<dd>43.9023393019801</dd>\n",
              "\t<dt>$Ad.Topic.Line</dt>\n",
              "\t\t<dd>&lt;NA&gt;</dd>\n",
              "\t<dt>$City</dt>\n",
              "\t\t<dd>&lt;NA&gt;</dd>\n",
              "\t<dt>$Male</dt>\n",
              "\t\t<dd>0.499888876540466</dd>\n",
              "\t<dt>$Country</dt>\n",
              "\t\t<dd>&lt;NA&gt;</dd>\n",
              "\t<dt>$Timestamp</dt>\n",
              "\t\t<dd>&lt;NA&gt;</dd>\n",
              "\t<dt>$Clicked.on.Ad</dt>\n",
              "\t\t<dd>0.500250187656387</dd>\n",
              "</dl>\n"
            ]
          },
          "metadata": {
            "tags": []
          }
        }
      ]
    },
    {
      "cell_type": "code",
      "metadata": {
        "id": "0o7bRrHtq2ax",
        "outputId": "e1a8c5f8-4778-481a-b95a-16fccf8dc36e",
        "colab": {
          "base_uri": "https://localhost:8080/",
          "height": 437
        }
      },
      "source": [
        "# histograms for the numeric columns, age\n",
        "hist(advertising$Age)\n",
        "\n",
        "# the histograms indicate that the frequent ages are between 25 years to 40 years. The least age is between 55-60 and 10-20"
      ],
      "execution_count": 19,
      "outputs": [
        {
          "output_type": "display_data",
          "data": {
            "image/png": "[encoded data removed]",
            "text/plain": [
              "Plot with title “Histogram of advertising$Age”"
            ]
          },
          "metadata": {
            "tags": [],
            "image/png": {
              "width": 420,
              "height": 420
            }
          }
        }
      ]
    },
    {
      "cell_type": "code",
      "metadata": {
        "id": "EYypmNM25-8K",
        "outputId": "32d66cd3-7c88-4572-9ab3-2e3fa65f7c49",
        "colab": {
          "base_uri": "https://localhost:8080/",
          "height": 437
        }
      },
      "source": [
        "# hist for male(gender)\n",
        "\n",
        "hist(advertising$Male)\n",
        "\n",
        "# frequency for the column male(gender) was fairly equal "
      ],
      "execution_count": 20,
      "outputs": [
        {
          "output_type": "display_data",
          "data": {
            "image/png": "[encoded data removed]",
            "text/plain": [
              "Plot with title “Histogram of advertising$Male”"
            ]
          },
          "metadata": {
            "tags": [],
            "image/png": {
              "width": 420,
              "height": 420
            }
          }
        }
      ]
    },
    {
      "cell_type": "code",
      "metadata": {
        "id": "K8b-ZkFM6UPv",
        "outputId": "051a35ed-bd1a-4d30-c53c-9a8be5f663ad",
        "colab": {
          "base_uri": "https://localhost:8080/",
          "height": 437
        }
      },
      "source": [
        "\n",
        "# histogram for Daily.Time.Spent.on.Site\n",
        "hist(advertising$'Daily.Time.Spent.on.Site')\n",
        "\n",
        "# The frequent time spent was between 65 to 85. The least appearing amount of time spent on the blog was between 30-35 and 90-95 "
      ],
      "execution_count": 21,
      "outputs": [
        {
          "output_type": "display_data",
          "data": {
            "image/png": "[encoded data removed]",
            "text/plain": [
              "Plot with title “Histogram of advertising$Daily.Time.Spent.on.Site”"
            ]
          },
          "metadata": {
            "tags": [],
            "image/png": {
              "width": 420,
              "height": 420
            }
          }
        }
      ]
    },
    {
      "cell_type": "code",
      "metadata": {
        "id": "ZIimYDw6Cvj6",
        "outputId": "be0d6a02-ac67-4e04-f662-4b732f619513",
        "colab": {
          "base_uri": "https://localhost:8080/",
          "height": 437
        }
      },
      "source": [
        "# histogram for the Clicked.on.Ad column \n",
        "hist(advertising$Clicked.on.Ad )"
      ],
      "execution_count": 22,
      "outputs": [
        {
          "output_type": "display_data",
          "data": {
            "image/png": "[encoded data removed]",
            "text/plain": [
              "Plot with title “Histogram of advertising$Clicked.on.Ad”"
            ]
          },
          "metadata": {
            "tags": [],
            "image/png": {
              "width": 420,
              "height": 420
            }
          }
        }
      ]
    },
    {
      "cell_type": "code",
      "metadata": {
        "id": "Mtw_MQDJDOeb",
        "outputId": "a54f5b54-b6ce-4010-f825-5468a336ec82",
        "colab": {
          "base_uri": "https://localhost:8080/",
          "height": 437
        }
      },
      "source": [
        "# histogram for the $Daily.Internet.Usage\n",
        "hist(advertising$Daily.Internet.Usage )\n",
        "\n",
        "\n",
        "# internet usage was frequent around 110 and 140, 200 to 240\n"
      ],
      "execution_count": 23,
      "outputs": [
        {
          "output_type": "display_data",
          "data": {
            "image/png": "[encoded data removed]",
            "text/plain": [
              "Plot with title “Histogram of advertising$Daily.Internet.Usage”"
            ]
          },
          "metadata": {
            "tags": [],
            "image/png": {
              "width": 420,
              "height": 420
            }
          }
        }
      ]
    },
    {
      "cell_type": "code",
      "metadata": {
        "id": "ZuIAeNW3JvT6",
        "outputId": "d17cfe17-9854-4924-cde9-ab34664f5a55",
        "colab": {
          "base_uri": "https://localhost:8080/",
          "height": 437
        }
      },
      "source": [
        "# histogram for area income\n",
        "hist(advertising$Area.Income )\n",
        "\n",
        "# the frequent chunk of income was between 50,000 to 70,000"
      ],
      "execution_count": 24,
      "outputs": [
        {
          "output_type": "display_data",
          "data": {
            "image/png": "[encoded data removed]",
            "text/plain": [
              "Plot with title “Histogram of advertising$Area.Income”"
            ]
          },
          "metadata": {
            "tags": [],
            "image/png": {
              "width": 420,
              "height": 420
            }
          }
        }
      ]
    },
    {
      "cell_type": "code",
      "metadata": {
        "id": "zN5cZQU-I50L"
      },
      "source": [
        "\n",
        "\n",
        "\n",
        "\n",
        "\n",
        "\n",
        "\n",
        "# frequency for the column male(gender) was fairly equal "
      ],
      "execution_count": 25,
      "outputs": []
    },
    {
      "cell_type": "code",
      "metadata": {
        "id": "pFfU7x3JFnqF",
        "outputId": "fa5eecde-70f3-4e35-8a26-926f142a799c",
        "colab": {
          "base_uri": "https://localhost:8080/",
          "height": 102
        }
      },
      "source": [
        "## Bivariate Analysis\n",
        "\n",
        "# determining the covariance\n",
        "time_spent <- advertising$'Daily.Time.Spent.on.Site'\n",
        "age <- advertising$Age\n",
        "click_on_ad <- advertising$Clicked.on.Ad\n",
        "gender <- advertising$Male\n",
        "internet_usage <- advertising$Daily.Internet.Usage\n",
        "area_income <- advertising$area_income\n",
        "# for time_spent and age\n",
        "cov(time_spent, age)\n",
        "# # The covariance of time spent and age duration is about -46.17415. It indicates a negative linear relationship between the two variables\n",
        "\n",
        "# for click on ad and age\n",
        "cov(click_on_ad, age)\n",
        "# The covariance of time spent amd age duration is about 2.164665. It indicates a positive linear relationship between the two variables\n",
        "\n",
        "# click on ad and gender\n",
        "cov(click_on_ad, gender)\n",
        "# # The covariance of time click on ad and gender is about -0.00950951. It indicates a zero since the click per ad is paired equally with both greater and lesser values of the gender varaible.\n",
        "\n",
        "# click on ad and time spent\n",
        "cov(click_on_ad, time_spent)\n",
        "# The covariance of click on ad and time spent is about -5.933143. It indicates a negative linear relationship between the two variables\n",
        "\n",
        "# click on ad and internet usage\n",
        "cov(click_on_ad, internet_usage)\n",
        "# The covariance of click on ad and internet usage is about  -17.27409. It indicates a negative linear relationship between the two variables\n",
        "\n"
      ],
      "execution_count": 27,
      "outputs": [
        {
          "output_type": "display_data",
          "data": {
            "text/plain": [
              "[1] -46.17415"
            ],
            "text/latex": "-46.1741459459459",
            "text/markdown": "-46.1741459459459",
            "text/html": [
              "-46.1741459459459"
            ]
          },
          "metadata": {
            "tags": []
          }
        },
        {
          "output_type": "display_data",
          "data": {
            "text/plain": [
              "[1] 2.164665"
            ],
            "text/latex": "2.16466466466466",
            "text/markdown": "2.16466466466466",
            "text/html": [
              "2.16466466466466"
            ]
          },
          "metadata": {
            "tags": []
          }
        },
        {
          "output_type": "display_data",
          "data": {
            "text/plain": [
              "[1] -0.00950951"
            ],
            "text/latex": "-0.00950950950950951",
            "text/markdown": "-0.00950950950950951",
            "text/html": [
              "-0.00950950950950951"
            ]
          },
          "metadata": {
            "tags": []
          }
        },
        {
          "output_type": "display_data",
          "data": {
            "text/plain": [
              "[1] -5.933143"
            ],
            "text/latex": "-5.93314314314314",
            "text/markdown": "-5.93314314314314",
            "text/html": [
              "-5.93314314314314"
            ]
          },
          "metadata": {
            "tags": []
          }
        },
        {
          "output_type": "display_data",
          "data": {
            "text/plain": [
              "[1] -17.27409"
            ],
            "text/latex": "-17.2740940940941",
            "text/markdown": "-17.2740940940941",
            "text/html": [
              "-17.2740940940941"
            ]
          },
          "metadata": {
            "tags": []
          }
        }
      ]
    },
    {
      "cell_type": "code",
      "metadata": {
        "id": "3MeRibP7IIUp",
        "outputId": "95b5c3fa-f6a4-40f4-fbf4-8847a596bcfb",
        "colab": {
          "base_uri": "https://localhost:8080/",
          "height": 102
        }
      },
      "source": [
        "# getting the correlation coefficients of the columns\n",
        "cor(time_spent, age)\n",
        "cor(click_on_ad, age)\n",
        "cor(click_on_ad, gender)\n",
        "cor(click_on_ad, time_spent)\n",
        "cor(click_on_ad, internet_usage)\n",
        "\n",
        "# the variables time spent and age have a weak negative linear correlation of -0.3315133\n",
        "# the variables click on ad and age have a weak postive correlation of 0.4925313\n",
        "# the variables \"click on ad\" and gender have an almost linear negative correlation of -0.7481166\n",
        "# the variables \"click on ad\" and \"internet usage have an almost linear negative correlation of -0.7865392  "
      ],
      "execution_count": 28,
      "outputs": [
        {
          "output_type": "display_data",
          "data": {
            "text/plain": [
              "[1] -0.3315133"
            ],
            "text/latex": "-0.331513342786584",
            "text/markdown": "-0.331513342786584",
            "text/html": [
              "-0.331513342786584"
            ]
          },
          "metadata": {
            "tags": []
          }
        },
        {
          "output_type": "display_data",
          "data": {
            "text/plain": [
              "[1] 0.4925313"
            ],
            "text/latex": "0.492531265556038",
            "text/markdown": "0.492531265556038",
            "text/html": [
              "0.492531265556038"
            ]
          },
          "metadata": {
            "tags": []
          }
        },
        {
          "output_type": "display_data",
          "data": {
            "text/plain": [
              "[1] -0.03802747"
            ],
            "text/latex": "-0.0380274657489881",
            "text/markdown": "-0.0380274657489881",
            "text/html": [
              "-0.0380274657489881"
            ]
          },
          "metadata": {
            "tags": []
          }
        },
        {
          "output_type": "display_data",
          "data": {
            "text/plain": [
              "[1] -0.7481166"
            ],
            "text/latex": "-0.748116564119635",
            "text/markdown": "-0.748116564119635",
            "text/html": [
              "-0.748116564119635"
            ]
          },
          "metadata": {
            "tags": []
          }
        },
        {
          "output_type": "display_data",
          "data": {
            "text/plain": [
              "[1] -0.7865392"
            ],
            "text/latex": "-0.78653917587149",
            "text/markdown": "-0.78653917587149",
            "text/html": [
              "-0.78653917587149"
            ]
          },
          "metadata": {
            "tags": []
          }
        }
      ]
    },
    {
      "cell_type": "markdown",
      "metadata": {
        "id": "3qTqVqBTIoHj"
      },
      "source": [
        "## Recomendations \n",
        "Emphasis should be on the ages of between 35-45 since they are the majority in the blog.This is evident by the covariant relationship between \"click on ad\" and age variables.\n",
        "\n",
        "Squeezing the cryptography course advertisment in the \"Cloned 5thgeneration orchestration\" ad topic would prove benefitial as evident by the mode of the ad topic line\n",
        "\n",
        "More emphasis should be put on the country Czech Republic and the city \"Lisamouth\" as evident by the mode values of both\n",
        " "
      ]
    }
  ]
}